{
 "cells": [
  {
   "cell_type": "markdown",
   "metadata": {},
   "source": [
    "## Context: Music Discovery and Personalization\n",
    "Streaming music is now mainstream, fans have unprecedented music access, making personalized music discovery more important than ever. The world’s leading digital music services rely on creating unique taste profiles for their users in order to make playlists more personal, recommendations more relevant, and discovery more social.\n",
    "\n",
    "However, the current recommendation systems that are based on listeners who listen to similar artists is only effective for major artists with an extensive fan following and largely miscategorizes new creators. Incorporating a new Recommendation System based off of similar audio properties, rather than the listeners, in order to cluster similar styles together, can help compensate for this discrepancy.\n",
    "\n",
    "\n",
    "## Goal: Recommend music genres based on similarities of music audio characteristics.\n",
    "\n",
    "**Personal Playlisting**\n",
    "- predictive playlists that get smarter over time with machine learning and end-user tuning\n",
    "- predictive playlisting that adjusts acoustically to each fan’s taste and context digital understanding of each\n",
    "- individual’s personal music taste -> captures live playback behavior (artist plays, song plays, seeds, skips, bans, favorites, and more) and uses it to personalize playlists, radio, and the rest of the discovery experience.\n",
    "\n",
    "## Acknowledgements\n",
    "This work is a simplification from the Kaggle dataset posted at https://www.kaggle.com/grasslover/spotify-music-genre-list#songDb.tsv and the work of The Echo Nest at http://the.echonest.com/ and https://www.kaggle.com/c/msdchallenge."
   ]
  },
  {
   "cell_type": "markdown",
   "metadata": {},
   "source": [
    "### Watermark Extension\n",
    "- Documentation of when program was run and with which packages"
   ]
  },
  {
   "cell_type": "code",
   "execution_count": 2,
   "metadata": {},
   "outputs": [
    {
     "name": "stdout",
     "output_type": "stream",
     "text": [
      "Collecting pip\n",
      "\u001b[?25l  Downloading https://files.pythonhosted.org/packages/5c/e0/be401c003291b56efc55aeba6a80ab790d3d4cece2778288d65323009420/pip-19.1.1-py2.py3-none-any.whl (1.4MB)\n",
      "\u001b[K    100% |████████████████████████████████| 1.4MB 17.8MB/s ta 0:00:01\n",
      "\u001b[?25hInstalling collected packages: pip\n",
      "  Found existing installation: pip 19.0.3\n",
      "    Uninstalling pip-19.0.3:\n",
      "      Successfully uninstalled pip-19.0.3\n",
      "Successfully installed pip-19.1.1\n",
      "Collecting watermark\n",
      "  Downloading https://files.pythonhosted.org/packages/4b/dc/fb451c174b4f603231875c9ca7116d1b81cdd635172f0fbab248b1d94cd5/watermark-1.8.1-py3-none-any.whl\n",
      "Requirement already satisfied: ipython in /anaconda3/lib/python3.7/site-packages (from watermark) (7.4.0)\n",
      "Requirement already satisfied: setuptools>=18.5 in /anaconda3/lib/python3.7/site-packages (from ipython->watermark) (40.8.0)\n",
      "Requirement already satisfied: jedi>=0.10 in /anaconda3/lib/python3.7/site-packages (from ipython->watermark) (0.13.3)\n",
      "Requirement already satisfied: traitlets>=4.2 in /anaconda3/lib/python3.7/site-packages (from ipython->watermark) (4.3.2)\n",
      "Requirement already satisfied: prompt-toolkit<2.1.0,>=2.0.0 in /anaconda3/lib/python3.7/site-packages (from ipython->watermark) (2.0.9)\n",
      "Requirement already satisfied: pygments in /anaconda3/lib/python3.7/site-packages (from ipython->watermark) (2.3.1)\n",
      "Requirement already satisfied: pickleshare in /anaconda3/lib/python3.7/site-packages (from ipython->watermark) (0.7.5)\n",
      "Requirement already satisfied: appnope; sys_platform == \"darwin\" in /anaconda3/lib/python3.7/site-packages (from ipython->watermark) (0.1.0)\n",
      "Requirement already satisfied: decorator in /anaconda3/lib/python3.7/site-packages (from ipython->watermark) (4.4.0)\n",
      "Requirement already satisfied: backcall in /anaconda3/lib/python3.7/site-packages (from ipython->watermark) (0.1.0)\n",
      "Requirement already satisfied: pexpect; sys_platform != \"win32\" in /anaconda3/lib/python3.7/site-packages (from ipython->watermark) (4.6.0)\n",
      "Requirement already satisfied: parso>=0.3.0 in /anaconda3/lib/python3.7/site-packages (from jedi>=0.10->ipython->watermark) (0.3.4)\n",
      "Requirement already satisfied: six in /anaconda3/lib/python3.7/site-packages (from traitlets>=4.2->ipython->watermark) (1.12.0)\n",
      "Requirement already satisfied: ipython-genutils in /anaconda3/lib/python3.7/site-packages (from traitlets>=4.2->ipython->watermark) (0.2.0)\n",
      "Requirement already satisfied: wcwidth in /anaconda3/lib/python3.7/site-packages (from prompt-toolkit<2.1.0,>=2.0.0->ipython->watermark) (0.1.7)\n",
      "Requirement already satisfied: ptyprocess>=0.5 in /anaconda3/lib/python3.7/site-packages (from pexpect; sys_platform != \"win32\"->ipython->watermark) (0.6.0)\n",
      "Installing collected packages: watermark\n",
      "Successfully installed watermark-1.8.1\n"
     ]
    }
   ],
   "source": [
    "# install watermark extension\n",
    "!pip install --upgrade pip\n",
    "!pip install watermark"
   ]
  },
  {
   "cell_type": "code",
   "execution_count": 4,
   "metadata": {},
   "outputs": [],
   "source": [
    "# Use a future note\n",
    "%load_ext watermark"
   ]
  },
  {
   "cell_type": "markdown",
   "metadata": {},
   "source": [
    "### Workflow for Using Machine Learning in Predictive Modeling:\n",
    "**1. Preprocessing: Preparation of Data for Modeling**\n",
    "    - Labels / Raw Data\n",
    "    - Convertion of String Data into Binary Numerical Values\n",
    "    - Convertion of Binary Numerical Data into Vectors\n",
    "    - Convertion of Vector Columns into Combined Vectors\n",
    "    - Pipelining of Data\n",
    "**3. Learning**\n",
    "    - Transformation and Fit of Data to Pipeline\n",
    "    - Splitting of Training and Testing Data\n",
    "    - Learning Algorithm\n",
    "        - Model Selection\n",
    "        - Cross-Validation\n",
    "        - Create and Test Grid of Performance Metrics (Hyperparameters)\n",
    "        - Hyperparameter Optimization\n",
    "**4. Evaluation** \n",
    "    - Final Model\n",
    "    - Labels Prediction Accuracy\n",
    "**5. Prediction**\n",
    "    - New Data\n",
    "    - Label Predictions"
   ]
  },
  {
   "cell_type": "code",
   "execution_count": 5,
   "metadata": {},
   "outputs": [],
   "source": [
    "# Import the relevant python libraries for the analysis\n",
    "import pandas as pd\n",
    "from pandas import DataFrame\n",
    "import numpy as np\n",
    "import seaborn as sns; sns.set(style=\"darkgrid\")\n",
    "import matplotlib.pyplot as plt\n",
    "import pylab as pl\n",
    "\n",
    "# Recommending System\n",
    "%run Recommenders.ipynb\n",
    "import networkx as nx"
   ]
  },
  {
   "cell_type": "code",
   "execution_count": 6,
   "metadata": {},
   "outputs": [
    {
     "name": "stdout",
     "output_type": "stream",
     "text": [
      "Emily Schoof 2019-06-13 17:25:11 \n",
      "\n",
      "CPython 3.7.3\n",
      "IPython 7.4.0\n",
      "\n",
      "numpy 1.16.2\n",
      "pandas 0.24.2\n",
      "seaborn 0.9.0\n",
      "matplotlib 3.0.3\n",
      "sklearn 0.20.3\n",
      "Git hash:\n"
     ]
    }
   ],
   "source": [
    "%watermark -a \"Emily Schoof\" -d -t -v -p numpy,pandas,seaborn,matplotlib,sklearn -g "
   ]
  },
  {
   "cell_type": "markdown",
   "metadata": {},
   "source": [
    "#### Requirements Text"
   ]
  },
  {
   "cell_type": "code",
   "execution_count": 7,
   "metadata": {},
   "outputs": [],
   "source": [
    "# Install requirements.txt\n",
    "!pip install -r requirements.txt"
   ]
  },
  {
   "cell_type": "code",
   "execution_count": 6,
   "metadata": {},
   "outputs": [],
   "source": [
    "# %prun -> displays report of how time was run for that function- spot inefficient pieces of code\n",
    "# export python notebook to just python files: bit.ly/py-html-config\n",
    "# http://www.waffle.io"
   ]
  },
  {
   "cell_type": "markdown",
   "metadata": {},
   "source": [
    "## Creating a Personalized Recommendation System"
   ]
  },
  {
   "cell_type": "code",
   "execution_count": 7,
   "metadata": {},
   "outputs": [
    {
     "data": {
      "image/jpeg": "[encoded data removed]",
      "text/plain": [
       "<IPython.core.display.Image object>"
      ]
     },
     "execution_count": 7,
     "metadata": {},
     "output_type": "execute_result"
    }
   ],
   "source": [
    "from IPython.display import Image\n",
    "Image(filename='data/RecommendationSystems.jpg')"
   ]
  },
  {
   "cell_type": "markdown",
   "metadata": {},
   "source": [
    "## Section 1: Preprocessing and Exploratory Analysis¶\n",
    "- Load and Clean SongDb.tsv dataset\n",
    "- Visualize Data"
   ]
  },
  {
   "cell_type": "markdown",
   "metadata": {},
   "source": [
    "### A. Load Genre Audio Categories and Clean Data"
   ]
  },
  {
   "cell_type": "code",
   "execution_count": 94,
   "metadata": {
    "scrolled": true
   },
   "outputs": [
    {
     "data": {
      "text/html": [
       "<div>\n",
       "<style scoped>\n",
       "    .dataframe tbody tr th:only-of-type {\n",
       "        vertical-align: middle;\n",
       "    }\n",
       "\n",
       "    .dataframe tbody tr th {\n",
       "        vertical-align: top;\n",
       "    }\n",
       "\n",
       "    .dataframe thead th {\n",
       "        text-align: right;\n",
       "    }\n",
       "</style>\n",
       "<table border=\"1\" class=\"dataframe\">\n",
       "  <thead>\n",
       "    <tr style=\"text-align: right;\">\n",
       "      <th></th>\n",
       "      <th>Name</th>\n",
       "      <th>Danceability</th>\n",
       "      <th>Energy</th>\n",
       "      <th>Key</th>\n",
       "      <th>Loudness</th>\n",
       "      <th>Mode</th>\n",
       "      <th>Speechness</th>\n",
       "      <th>Acousticness</th>\n",
       "      <th>Instrumentalness</th>\n",
       "      <th>Liveness</th>\n",
       "      <th>Valence</th>\n",
       "      <th>Tempo</th>\n",
       "      <th>Type</th>\n",
       "      <th>ID</th>\n",
       "      <th>Uri</th>\n",
       "      <th>Ref_Track</th>\n",
       "      <th>URL_features</th>\n",
       "      <th>Duration_ms</th>\n",
       "      <th>time_signature</th>\n",
       "      <th>Genre</th>\n",
       "    </tr>\n",
       "  </thead>\n",
       "  <tbody>\n",
       "    <tr>\n",
       "      <th>0</th>\n",
       "      <td>YuveYuveYu</td>\n",
       "      <td>0.624</td>\n",
       "      <td>0.857</td>\n",
       "      <td>10.0</td>\n",
       "      <td>-6.250</td>\n",
       "      <td>0.0</td>\n",
       "      <td>0.0542</td>\n",
       "      <td>0.020800</td>\n",
       "      <td>0.206000</td>\n",
       "      <td>0.110</td>\n",
       "      <td>0.324</td>\n",
       "      <td>131.926</td>\n",
       "      <td>audio_features</td>\n",
       "      <td>6J2VvzKwWc2f0JP5RQVZjq</td>\n",
       "      <td>spotify:track:6J2VvzKwWc2f0JP5RQVZjq</td>\n",
       "      <td>https://api.spotify.com/v1/tracks/6J2VvzKwWc2f...</td>\n",
       "      <td>https://api.spotify.com/v1/audio-analysis/6J2V...</td>\n",
       "      <td>282920.0</td>\n",
       "      <td>4.0</td>\n",
       "      <td>celticmetal</td>\n",
       "    </tr>\n",
       "    <tr>\n",
       "      <th>1</th>\n",
       "      <td>Gloryhammer</td>\n",
       "      <td>0.517</td>\n",
       "      <td>0.916</td>\n",
       "      <td>0.0</td>\n",
       "      <td>-4.933</td>\n",
       "      <td>1.0</td>\n",
       "      <td>0.0559</td>\n",
       "      <td>0.000182</td>\n",
       "      <td>0.001910</td>\n",
       "      <td>0.306</td>\n",
       "      <td>0.444</td>\n",
       "      <td>135.996</td>\n",
       "      <td>audio_features</td>\n",
       "      <td>4HA34COgxgVJ6zK88UN4Ik</td>\n",
       "      <td>spotify:track:4HA34COgxgVJ6zK88UN4Ik</td>\n",
       "      <td>https://api.spotify.com/v1/tracks/4HA34COgxgVJ...</td>\n",
       "      <td>https://api.spotify.com/v1/audio-analysis/4HA3...</td>\n",
       "      <td>300320.0</td>\n",
       "      <td>4.0</td>\n",
       "      <td>celticmetal</td>\n",
       "    </tr>\n",
       "    <tr>\n",
       "      <th>2</th>\n",
       "      <td>Nostos</td>\n",
       "      <td>0.251</td>\n",
       "      <td>0.894</td>\n",
       "      <td>8.0</td>\n",
       "      <td>-4.103</td>\n",
       "      <td>0.0</td>\n",
       "      <td>0.0570</td>\n",
       "      <td>0.014400</td>\n",
       "      <td>0.000000</td>\n",
       "      <td>0.123</td>\n",
       "      <td>0.297</td>\n",
       "      <td>114.223</td>\n",
       "      <td>audio_features</td>\n",
       "      <td>3W6Xik6Xxf06JuUoZSATlD</td>\n",
       "      <td>spotify:track:3W6Xik6Xxf06JuUoZSATlD</td>\n",
       "      <td>https://api.spotify.com/v1/tracks/3W6Xik6Xxf06...</td>\n",
       "      <td>https://api.spotify.com/v1/audio-analysis/3W6X...</td>\n",
       "      <td>175353.0</td>\n",
       "      <td>4.0</td>\n",
       "      <td>celticmetal</td>\n",
       "    </tr>\n",
       "    <tr>\n",
       "      <th>3</th>\n",
       "      <td>Yggdrasil</td>\n",
       "      <td>0.469</td>\n",
       "      <td>0.743</td>\n",
       "      <td>1.0</td>\n",
       "      <td>-5.570</td>\n",
       "      <td>0.0</td>\n",
       "      <td>0.0272</td>\n",
       "      <td>0.002220</td>\n",
       "      <td>0.000111</td>\n",
       "      <td>0.276</td>\n",
       "      <td>0.481</td>\n",
       "      <td>86.953</td>\n",
       "      <td>audio_features</td>\n",
       "      <td>2gGveBaLJQMtJ43X4UL5kH</td>\n",
       "      <td>spotify:track:2gGveBaLJQMtJ43X4UL5kH</td>\n",
       "      <td>https://api.spotify.com/v1/tracks/2gGveBaLJQMt...</td>\n",
       "      <td>https://api.spotify.com/v1/audio-analysis/2gGv...</td>\n",
       "      <td>272292.0</td>\n",
       "      <td>4.0</td>\n",
       "      <td>celticmetal</td>\n",
       "    </tr>\n",
       "    <tr>\n",
       "      <th>4</th>\n",
       "      <td>Incense&amp;Iron</td>\n",
       "      <td>0.487</td>\n",
       "      <td>0.952</td>\n",
       "      <td>1.0</td>\n",
       "      <td>-4.429</td>\n",
       "      <td>0.0</td>\n",
       "      <td>0.0613</td>\n",
       "      <td>0.000228</td>\n",
       "      <td>0.000000</td>\n",
       "      <td>0.161</td>\n",
       "      <td>0.329</td>\n",
       "      <td>125.993</td>\n",
       "      <td>audio_features</td>\n",
       "      <td>1lRF81A1C9QoCgBcEop2zg</td>\n",
       "      <td>spotify:track:1lRF81A1C9QoCgBcEop2zg</td>\n",
       "      <td>https://api.spotify.com/v1/tracks/1lRF81A1C9Qo...</td>\n",
       "      <td>https://api.spotify.com/v1/audio-analysis/1lRF...</td>\n",
       "      <td>237933.0</td>\n",
       "      <td>4.0</td>\n",
       "      <td>celticmetal</td>\n",
       "    </tr>\n",
       "  </tbody>\n",
       "</table>\n",
       "</div>"
      ],
      "text/plain": [
       "           Name  Danceability  Energy   Key  Loudness  Mode  Speechness  \\\n",
       "0    YuveYuveYu         0.624   0.857  10.0    -6.250   0.0      0.0542   \n",
       "1   Gloryhammer         0.517   0.916   0.0    -4.933   1.0      0.0559   \n",
       "2        Nostos         0.251   0.894   8.0    -4.103   0.0      0.0570   \n",
       "3     Yggdrasil         0.469   0.743   1.0    -5.570   0.0      0.0272   \n",
       "4  Incense&Iron         0.487   0.952   1.0    -4.429   0.0      0.0613   \n",
       "\n",
       "   Acousticness  Instrumentalness  Liveness  Valence    Tempo            Type  \\\n",
       "0      0.020800          0.206000     0.110    0.324  131.926  audio_features   \n",
       "1      0.000182          0.001910     0.306    0.444  135.996  audio_features   \n",
       "2      0.014400          0.000000     0.123    0.297  114.223  audio_features   \n",
       "3      0.002220          0.000111     0.276    0.481   86.953  audio_features   \n",
       "4      0.000228          0.000000     0.161    0.329  125.993  audio_features   \n",
       "\n",
       "                       ID                                   Uri  \\\n",
       "0  6J2VvzKwWc2f0JP5RQVZjq  spotify:track:6J2VvzKwWc2f0JP5RQVZjq   \n",
       "1  4HA34COgxgVJ6zK88UN4Ik  spotify:track:4HA34COgxgVJ6zK88UN4Ik   \n",
       "2  3W6Xik6Xxf06JuUoZSATlD  spotify:track:3W6Xik6Xxf06JuUoZSATlD   \n",
       "3  2gGveBaLJQMtJ43X4UL5kH  spotify:track:2gGveBaLJQMtJ43X4UL5kH   \n",
       "4  1lRF81A1C9QoCgBcEop2zg  spotify:track:1lRF81A1C9QoCgBcEop2zg   \n",
       "\n",
       "                                           Ref_Track  \\\n",
       "0  https://api.spotify.com/v1/tracks/6J2VvzKwWc2f...   \n",
       "1  https://api.spotify.com/v1/tracks/4HA34COgxgVJ...   \n",
       "2  https://api.spotify.com/v1/tracks/3W6Xik6Xxf06...   \n",
       "3  https://api.spotify.com/v1/tracks/2gGveBaLJQMt...   \n",
       "4  https://api.spotify.com/v1/tracks/1lRF81A1C9Qo...   \n",
       "\n",
       "                                        URL_features  Duration_ms  \\\n",
       "0  https://api.spotify.com/v1/audio-analysis/6J2V...     282920.0   \n",
       "1  https://api.spotify.com/v1/audio-analysis/4HA3...     300320.0   \n",
       "2  https://api.spotify.com/v1/audio-analysis/3W6X...     175353.0   \n",
       "3  https://api.spotify.com/v1/audio-analysis/2gGv...     272292.0   \n",
       "4  https://api.spotify.com/v1/audio-analysis/1lRF...     237933.0   \n",
       "\n",
       "  time_signature        Genre  \n",
       "0            4.0  celticmetal  \n",
       "1            4.0  celticmetal  \n",
       "2            4.0  celticmetal  \n",
       "3            4.0  celticmetal  \n",
       "4            4.0  celticmetal  "
      ]
     },
     "execution_count": 94,
     "metadata": {},
     "output_type": "execute_result"
    }
   ],
   "source": [
    "# Load SongDb.tsv dataset - convert .tsv file to .csv for uploading\n",
    "file_encoding = 'utf8'\n",
    "input_fd = open('data/songDb.tsv', encoding=file_encoding, errors='backslashreplace')\n",
    "beats = pd.read_csv(input_fd, delimiter='\\t', low_memory=False)\n",
    "beats.head()"
   ]
  },
  {
   "cell_type": "code",
   "execution_count": 11,
   "metadata": {},
   "outputs": [
    {
     "data": {
      "text/plain": [
       "(20, 626, 131580)"
      ]
     },
     "execution_count": 11,
     "metadata": {},
     "output_type": "execute_result"
    }
   ],
   "source": [
    "# List # of column, # of unique Genres, and total row length of dataset\n",
    "len(beats.columns), len(beats.Genre.unique()), len(beats)"
   ]
  },
  {
   "cell_type": "code",
   "execution_count": 12,
   "metadata": {},
   "outputs": [
    {
     "data": {
      "text/plain": [
       "['Name',\n",
       " 'Danceability',\n",
       " 'Energy',\n",
       " 'Key',\n",
       " 'Loudness',\n",
       " 'Mode',\n",
       " 'Speechness',\n",
       " 'Acousticness',\n",
       " 'Instrumentalness',\n",
       " 'Liveness',\n",
       " 'Valence',\n",
       " 'Tempo',\n",
       " 'Type',\n",
       " 'ID',\n",
       " 'Uri',\n",
       " 'Ref_Track',\n",
       " 'URL_features',\n",
       " 'Duration_ms',\n",
       " 'time_signature',\n",
       " 'Genre']"
      ]
     },
     "execution_count": 12,
     "metadata": {},
     "output_type": "execute_result"
    }
   ],
   "source": [
    "# List column names\n",
    "list(beats.columns)"
   ]
  },
  {
   "cell_type": "markdown",
   "metadata": {},
   "source": [
    "#### Assess Data Cleanliness: Drop all rows with NaN values and Drop Unnecessary Information"
   ]
  },
  {
   "cell_type": "code",
   "execution_count": 13,
   "metadata": {},
   "outputs": [
    {
     "name": "stdout",
     "output_type": "stream",
     "text": [
      "<class 'pandas.core.frame.DataFrame'>\n",
      "RangeIndex: 131580 entries, 0 to 131579\n",
      "Data columns (total 20 columns):\n",
      "Name                131578 non-null object\n",
      "Danceability        131580 non-null float64\n",
      "Energy              131580 non-null float64\n",
      "Key                 131580 non-null float64\n",
      "Loudness            131580 non-null float64\n",
      "Mode                131580 non-null float64\n",
      "Speechness          131580 non-null float64\n",
      "Acousticness        131580 non-null float64\n",
      "Instrumentalness    131580 non-null float64\n",
      "Liveness            131580 non-null float64\n",
      "Valence             131580 non-null float64\n",
      "Tempo               131580 non-null object\n",
      "Type                131580 non-null object\n",
      "ID                  131580 non-null object\n",
      "Uri                 131580 non-null object\n",
      "Ref_Track           131580 non-null object\n",
      "URL_features        131580 non-null object\n",
      "Duration_ms         131580 non-null float64\n",
      "time_signature      131580 non-null object\n",
      "Genre               131554 non-null object\n",
      "dtypes: float64(11), object(9)\n",
      "memory usage: 20.1+ MB\n"
     ]
    }
   ],
   "source": [
    "beats.info()"
   ]
  },
  {
   "cell_type": "code",
   "execution_count": 54,
   "metadata": {},
   "outputs": [
    {
     "data": {
      "text/html": [
       "<div>\n",
       "<style scoped>\n",
       "    .dataframe tbody tr th:only-of-type {\n",
       "        vertical-align: middle;\n",
       "    }\n",
       "\n",
       "    .dataframe tbody tr th {\n",
       "        vertical-align: top;\n",
       "    }\n",
       "\n",
       "    .dataframe thead th {\n",
       "        text-align: right;\n",
       "    }\n",
       "</style>\n",
       "<table border=\"1\" class=\"dataframe\">\n",
       "  <thead>\n",
       "    <tr style=\"text-align: right;\">\n",
       "      <th></th>\n",
       "      <th>Name</th>\n",
       "      <th>Danceability</th>\n",
       "      <th>Energy</th>\n",
       "      <th>Key</th>\n",
       "      <th>Loudness</th>\n",
       "      <th>Mode</th>\n",
       "      <th>Speechness</th>\n",
       "      <th>Acousticness</th>\n",
       "      <th>Instrumentalness</th>\n",
       "      <th>Liveness</th>\n",
       "      <th>Valence</th>\n",
       "      <th>Tempo</th>\n",
       "      <th>Type</th>\n",
       "      <th>ID</th>\n",
       "      <th>Uri</th>\n",
       "      <th>Ref_Track</th>\n",
       "      <th>URL_features</th>\n",
       "      <th>Duration_ms</th>\n",
       "      <th>time_signature</th>\n",
       "      <th>Genre</th>\n",
       "    </tr>\n",
       "  </thead>\n",
       "  <tbody>\n",
       "    <tr>\n",
       "      <th>0</th>\n",
       "      <td>YuveYuveYu</td>\n",
       "      <td>0.624</td>\n",
       "      <td>0.857</td>\n",
       "      <td>10.0</td>\n",
       "      <td>-6.25</td>\n",
       "      <td>0.0</td>\n",
       "      <td>0.0542</td>\n",
       "      <td>0.0208</td>\n",
       "      <td>0.206</td>\n",
       "      <td>0.11</td>\n",
       "      <td>0.324</td>\n",
       "      <td>131.926</td>\n",
       "      <td>audio_features</td>\n",
       "      <td>6J2VvzKwWc2f0JP5RQVZjq</td>\n",
       "      <td>spotify:track:6J2VvzKwWc2f0JP5RQVZjq</td>\n",
       "      <td>https://api.spotify.com/v1/tracks/6J2VvzKwWc2f...</td>\n",
       "      <td>https://api.spotify.com/v1/audio-analysis/6J2V...</td>\n",
       "      <td>282920.0</td>\n",
       "      <td>4.0</td>\n",
       "      <td>celticmetal</td>\n",
       "    </tr>\n",
       "  </tbody>\n",
       "</table>\n",
       "</div>"
      ],
      "text/plain": [
       "         Name  Danceability  Energy   Key  Loudness  Mode  Speechness  \\\n",
       "0  YuveYuveYu         0.624   0.857  10.0     -6.25   0.0      0.0542   \n",
       "\n",
       "   Acousticness  Instrumentalness  Liveness  Valence    Tempo            Type  \\\n",
       "0        0.0208             0.206      0.11    0.324  131.926  audio_features   \n",
       "\n",
       "                       ID                                   Uri  \\\n",
       "0  6J2VvzKwWc2f0JP5RQVZjq  spotify:track:6J2VvzKwWc2f0JP5RQVZjq   \n",
       "\n",
       "                                           Ref_Track  \\\n",
       "0  https://api.spotify.com/v1/tracks/6J2VvzKwWc2f...   \n",
       "\n",
       "                                        URL_features  Duration_ms  \\\n",
       "0  https://api.spotify.com/v1/audio-analysis/6J2V...     282920.0   \n",
       "\n",
       "  time_signature        Genre  \n",
       "0            4.0  celticmetal  "
      ]
     },
     "execution_count": 54,
     "metadata": {},
     "output_type": "execute_result"
    }
   ],
   "source": [
    "beats.head(1)"
   ]
  },
  {
   "cell_type": "markdown",
   "metadata": {},
   "source": [
    "#### Necessary Adjustments to Data:\n",
    "1. Drop all columns with NaN values\n",
    "2. Convert numerical strings to numerical floats\n",
    "    - Tempo\n",
    "    - time_signature\n",
    "3. Drop unnecessary columns\n",
    "    - Name\n",
    "    - ID\n",
    "    - Uri\n",
    "    - Ref_Track\n",
    "    - URL_features\n",
    "    - Type"
   ]
  },
  {
   "cell_type": "code",
   "execution_count": 95,
   "metadata": {},
   "outputs": [],
   "source": [
    "# Drop NaN values\n",
    "beats = beats.dropna()\n",
    "\n",
    "# Convert column values to numbers\n",
    "beats['Tempo'] = pd.to_numeric(beats['Tempo'])\n",
    "beats['time_signature'] = pd.to_numeric(beats['time_signature'])\n",
    "\n",
    "# Drop unnecessary columns\n",
    "beats = beats.drop(['Name','ID','Uri','Ref_Track','URL_features','Type'], axis=1)"
   ]
  },
  {
   "cell_type": "code",
   "execution_count": 96,
   "metadata": {},
   "outputs": [
    {
     "name": "stdout",
     "output_type": "stream",
     "text": [
      "<class 'pandas.core.frame.DataFrame'>\n",
      "Int64Index: 131552 entries, 0 to 131579\n",
      "Data columns (total 14 columns):\n",
      "Danceability        131552 non-null float64\n",
      "Energy              131552 non-null float64\n",
      "Key                 131552 non-null float64\n",
      "Loudness            131552 non-null float64\n",
      "Mode                131552 non-null float64\n",
      "Speechness          131552 non-null float64\n",
      "Acousticness        131552 non-null float64\n",
      "Instrumentalness    131552 non-null float64\n",
      "Liveness            131552 non-null float64\n",
      "Valence             131552 non-null float64\n",
      "Tempo               131552 non-null float64\n",
      "Duration_ms         131552 non-null float64\n",
      "time_signature      131552 non-null float64\n",
      "Genre               131552 non-null object\n",
      "dtypes: float64(13), object(1)\n",
      "memory usage: 15.1+ MB\n"
     ]
    }
   ],
   "source": [
    "# Test output\n",
    "beats.info()"
   ]
  },
  {
   "cell_type": "markdown",
   "metadata": {},
   "source": [
    "### B. Visualize Data\n",
    "- Use a Scatterplot Matrix to visualize pair-wise correlations between different features in the dataset in one place"
   ]
  },
  {
   "cell_type": "markdown",
   "metadata": {},
   "source": [
    "#### Assessing Correlation of Co-Efficients"
   ]
  },
  {
   "cell_type": "code",
   "execution_count": 97,
   "metadata": {},
   "outputs": [
    {
     "data": {
      "text/html": [
       "<div>\n",
       "<style scoped>\n",
       "    .dataframe tbody tr th:only-of-type {\n",
       "        vertical-align: middle;\n",
       "    }\n",
       "\n",
       "    .dataframe tbody tr th {\n",
       "        vertical-align: top;\n",
       "    }\n",
       "\n",
       "    .dataframe thead th {\n",
       "        text-align: right;\n",
       "    }\n",
       "</style>\n",
       "<table border=\"1\" class=\"dataframe\">\n",
       "  <thead>\n",
       "    <tr style=\"text-align: right;\">\n",
       "      <th></th>\n",
       "      <th>Danceability</th>\n",
       "      <th>Energy</th>\n",
       "      <th>Key</th>\n",
       "      <th>Loudness</th>\n",
       "      <th>Mode</th>\n",
       "      <th>Speechness</th>\n",
       "      <th>Acousticness</th>\n",
       "      <th>Instrumentalness</th>\n",
       "      <th>Liveness</th>\n",
       "      <th>Valence</th>\n",
       "      <th>Tempo</th>\n",
       "      <th>Duration_ms</th>\n",
       "      <th>time_signature</th>\n",
       "    </tr>\n",
       "  </thead>\n",
       "  <tbody>\n",
       "    <tr>\n",
       "      <th>Danceability</th>\n",
       "      <td>1.000000</td>\n",
       "      <td>0.085840</td>\n",
       "      <td>0.028094</td>\n",
       "      <td>0.184340</td>\n",
       "      <td>-0.058505</td>\n",
       "      <td>0.128191</td>\n",
       "      <td>-0.133814</td>\n",
       "      <td>-0.176338</td>\n",
       "      <td>-0.096899</td>\n",
       "      <td>0.466527</td>\n",
       "      <td>-0.084355</td>\n",
       "      <td>-0.090894</td>\n",
       "      <td>0.169391</td>\n",
       "    </tr>\n",
       "    <tr>\n",
       "      <th>Energy</th>\n",
       "      <td>0.085840</td>\n",
       "      <td>1.000000</td>\n",
       "      <td>0.030325</td>\n",
       "      <td>0.777078</td>\n",
       "      <td>-0.028915</td>\n",
       "      <td>0.105022</td>\n",
       "      <td>-0.722825</td>\n",
       "      <td>-0.159389</td>\n",
       "      <td>0.183757</td>\n",
       "      <td>0.231796</td>\n",
       "      <td>0.227372</td>\n",
       "      <td>-0.012322</td>\n",
       "      <td>0.160863</td>\n",
       "    </tr>\n",
       "    <tr>\n",
       "      <th>Key</th>\n",
       "      <td>0.028094</td>\n",
       "      <td>0.030325</td>\n",
       "      <td>1.000000</td>\n",
       "      <td>0.018524</td>\n",
       "      <td>-0.166464</td>\n",
       "      <td>0.026550</td>\n",
       "      <td>-0.027710</td>\n",
       "      <td>0.001603</td>\n",
       "      <td>-0.002285</td>\n",
       "      <td>0.023278</td>\n",
       "      <td>0.003781</td>\n",
       "      <td>0.010581</td>\n",
       "      <td>0.012753</td>\n",
       "    </tr>\n",
       "    <tr>\n",
       "      <th>Loudness</th>\n",
       "      <td>0.184340</td>\n",
       "      <td>0.777078</td>\n",
       "      <td>0.018524</td>\n",
       "      <td>1.000000</td>\n",
       "      <td>-0.012096</td>\n",
       "      <td>0.042177</td>\n",
       "      <td>-0.601857</td>\n",
       "      <td>-0.371484</td>\n",
       "      <td>0.110873</td>\n",
       "      <td>0.236044</td>\n",
       "      <td>0.174872</td>\n",
       "      <td>-0.095715</td>\n",
       "      <td>0.148544</td>\n",
       "    </tr>\n",
       "    <tr>\n",
       "      <th>Mode</th>\n",
       "      <td>-0.058505</td>\n",
       "      <td>-0.028915</td>\n",
       "      <td>-0.166464</td>\n",
       "      <td>-0.012096</td>\n",
       "      <td>1.000000</td>\n",
       "      <td>-0.046509</td>\n",
       "      <td>0.039739</td>\n",
       "      <td>-0.047964</td>\n",
       "      <td>0.008585</td>\n",
       "      <td>0.026513</td>\n",
       "      <td>0.018149</td>\n",
       "      <td>-0.045754</td>\n",
       "      <td>-0.020023</td>\n",
       "    </tr>\n",
       "    <tr>\n",
       "      <th>Speechness</th>\n",
       "      <td>0.128191</td>\n",
       "      <td>0.105022</td>\n",
       "      <td>0.026550</td>\n",
       "      <td>0.042177</td>\n",
       "      <td>-0.046509</td>\n",
       "      <td>1.000000</td>\n",
       "      <td>-0.006039</td>\n",
       "      <td>-0.115895</td>\n",
       "      <td>0.185406</td>\n",
       "      <td>0.035008</td>\n",
       "      <td>0.011056</td>\n",
       "      <td>0.047948</td>\n",
       "      <td>-0.004907</td>\n",
       "    </tr>\n",
       "    <tr>\n",
       "      <th>Acousticness</th>\n",
       "      <td>-0.133814</td>\n",
       "      <td>-0.722825</td>\n",
       "      <td>-0.027710</td>\n",
       "      <td>-0.601857</td>\n",
       "      <td>0.039739</td>\n",
       "      <td>-0.006039</td>\n",
       "      <td>1.000000</td>\n",
       "      <td>0.115110</td>\n",
       "      <td>-0.083420</td>\n",
       "      <td>-0.084511</td>\n",
       "      <td>-0.189845</td>\n",
       "      <td>-0.062050</td>\n",
       "      <td>-0.171251</td>\n",
       "    </tr>\n",
       "    <tr>\n",
       "      <th>Instrumentalness</th>\n",
       "      <td>-0.176338</td>\n",
       "      <td>-0.159389</td>\n",
       "      <td>0.001603</td>\n",
       "      <td>-0.371484</td>\n",
       "      <td>-0.047964</td>\n",
       "      <td>-0.115895</td>\n",
       "      <td>0.115110</td>\n",
       "      <td>1.000000</td>\n",
       "      <td>-0.075751</td>\n",
       "      <td>-0.298873</td>\n",
       "      <td>-0.007171</td>\n",
       "      <td>0.225852</td>\n",
       "      <td>-0.067023</td>\n",
       "    </tr>\n",
       "    <tr>\n",
       "      <th>Liveness</th>\n",
       "      <td>-0.096899</td>\n",
       "      <td>0.183757</td>\n",
       "      <td>-0.002285</td>\n",
       "      <td>0.110873</td>\n",
       "      <td>0.008585</td>\n",
       "      <td>0.185406</td>\n",
       "      <td>-0.083420</td>\n",
       "      <td>-0.075751</td>\n",
       "      <td>1.000000</td>\n",
       "      <td>-0.001384</td>\n",
       "      <td>0.023978</td>\n",
       "      <td>0.013702</td>\n",
       "      <td>-0.001314</td>\n",
       "    </tr>\n",
       "    <tr>\n",
       "      <th>Valence</th>\n",
       "      <td>0.466527</td>\n",
       "      <td>0.231796</td>\n",
       "      <td>0.023278</td>\n",
       "      <td>0.236044</td>\n",
       "      <td>0.026513</td>\n",
       "      <td>0.035008</td>\n",
       "      <td>-0.084511</td>\n",
       "      <td>-0.298873</td>\n",
       "      <td>-0.001384</td>\n",
       "      <td>1.000000</td>\n",
       "      <td>0.049407</td>\n",
       "      <td>-0.236994</td>\n",
       "      <td>0.104475</td>\n",
       "    </tr>\n",
       "    <tr>\n",
       "      <th>Tempo</th>\n",
       "      <td>-0.084355</td>\n",
       "      <td>0.227372</td>\n",
       "      <td>0.003781</td>\n",
       "      <td>0.174872</td>\n",
       "      <td>0.018149</td>\n",
       "      <td>0.011056</td>\n",
       "      <td>-0.189845</td>\n",
       "      <td>-0.007171</td>\n",
       "      <td>0.023978</td>\n",
       "      <td>0.049407</td>\n",
       "      <td>1.000000</td>\n",
       "      <td>-0.012505</td>\n",
       "      <td>0.010989</td>\n",
       "    </tr>\n",
       "    <tr>\n",
       "      <th>Duration_ms</th>\n",
       "      <td>-0.090894</td>\n",
       "      <td>-0.012322</td>\n",
       "      <td>0.010581</td>\n",
       "      <td>-0.095715</td>\n",
       "      <td>-0.045754</td>\n",
       "      <td>0.047948</td>\n",
       "      <td>-0.062050</td>\n",
       "      <td>0.225852</td>\n",
       "      <td>0.013702</td>\n",
       "      <td>-0.236994</td>\n",
       "      <td>-0.012505</td>\n",
       "      <td>1.000000</td>\n",
       "      <td>-0.011185</td>\n",
       "    </tr>\n",
       "    <tr>\n",
       "      <th>time_signature</th>\n",
       "      <td>0.169391</td>\n",
       "      <td>0.160863</td>\n",
       "      <td>0.012753</td>\n",
       "      <td>0.148544</td>\n",
       "      <td>-0.020023</td>\n",
       "      <td>-0.004907</td>\n",
       "      <td>-0.171251</td>\n",
       "      <td>-0.067023</td>\n",
       "      <td>-0.001314</td>\n",
       "      <td>0.104475</td>\n",
       "      <td>0.010989</td>\n",
       "      <td>-0.011185</td>\n",
       "      <td>1.000000</td>\n",
       "    </tr>\n",
       "  </tbody>\n",
       "</table>\n",
       "</div>"
      ],
      "text/plain": [
       "                  Danceability    Energy       Key  Loudness      Mode  \\\n",
       "Danceability          1.000000  0.085840  0.028094  0.184340 -0.058505   \n",
       "Energy                0.085840  1.000000  0.030325  0.777078 -0.028915   \n",
       "Key                   0.028094  0.030325  1.000000  0.018524 -0.166464   \n",
       "Loudness              0.184340  0.777078  0.018524  1.000000 -0.012096   \n",
       "Mode                 -0.058505 -0.028915 -0.166464 -0.012096  1.000000   \n",
       "Speechness            0.128191  0.105022  0.026550  0.042177 -0.046509   \n",
       "Acousticness         -0.133814 -0.722825 -0.027710 -0.601857  0.039739   \n",
       "Instrumentalness     -0.176338 -0.159389  0.001603 -0.371484 -0.047964   \n",
       "Liveness             -0.096899  0.183757 -0.002285  0.110873  0.008585   \n",
       "Valence               0.466527  0.231796  0.023278  0.236044  0.026513   \n",
       "Tempo                -0.084355  0.227372  0.003781  0.174872  0.018149   \n",
       "Duration_ms          -0.090894 -0.012322  0.010581 -0.095715 -0.045754   \n",
       "time_signature        0.169391  0.160863  0.012753  0.148544 -0.020023   \n",
       "\n",
       "                  Speechness  Acousticness  Instrumentalness  Liveness  \\\n",
       "Danceability        0.128191     -0.133814         -0.176338 -0.096899   \n",
       "Energy              0.105022     -0.722825         -0.159389  0.183757   \n",
       "Key                 0.026550     -0.027710          0.001603 -0.002285   \n",
       "Loudness            0.042177     -0.601857         -0.371484  0.110873   \n",
       "Mode               -0.046509      0.039739         -0.047964  0.008585   \n",
       "Speechness          1.000000     -0.006039         -0.115895  0.185406   \n",
       "Acousticness       -0.006039      1.000000          0.115110 -0.083420   \n",
       "Instrumentalness   -0.115895      0.115110          1.000000 -0.075751   \n",
       "Liveness            0.185406     -0.083420         -0.075751  1.000000   \n",
       "Valence             0.035008     -0.084511         -0.298873 -0.001384   \n",
       "Tempo               0.011056     -0.189845         -0.007171  0.023978   \n",
       "Duration_ms         0.047948     -0.062050          0.225852  0.013702   \n",
       "time_signature     -0.004907     -0.171251         -0.067023 -0.001314   \n",
       "\n",
       "                   Valence     Tempo  Duration_ms  time_signature  \n",
       "Danceability      0.466527 -0.084355    -0.090894        0.169391  \n",
       "Energy            0.231796  0.227372    -0.012322        0.160863  \n",
       "Key               0.023278  0.003781     0.010581        0.012753  \n",
       "Loudness          0.236044  0.174872    -0.095715        0.148544  \n",
       "Mode              0.026513  0.018149    -0.045754       -0.020023  \n",
       "Speechness        0.035008  0.011056     0.047948       -0.004907  \n",
       "Acousticness     -0.084511 -0.189845    -0.062050       -0.171251  \n",
       "Instrumentalness -0.298873 -0.007171     0.225852       -0.067023  \n",
       "Liveness         -0.001384  0.023978     0.013702       -0.001314  \n",
       "Valence           1.000000  0.049407    -0.236994        0.104475  \n",
       "Tempo             0.049407  1.000000    -0.012505        0.010989  \n",
       "Duration_ms      -0.236994 -0.012505     1.000000       -0.011185  \n",
       "time_signature    0.104475  0.010989    -0.011185        1.000000  "
      ]
     },
     "execution_count": 97,
     "metadata": {},
     "output_type": "execute_result"
    }
   ],
   "source": [
    "# Create a correlation dataframe\n",
    "feature_corr = beats.corr()\n",
    "feature_corr"
   ]
  },
  {
   "cell_type": "code",
   "execution_count": 98,
   "metadata": {},
   "outputs": [
    {
     "data": {
      "text/plain": [
       "<matplotlib.axes._subplots.AxesSubplot at 0x1a241ce048>"
      ]
     },
     "execution_count": 98,
     "metadata": {},
     "output_type": "execute_result"
    },
    {
     "data": {
      "image/png": "[encoded data removed]",
      "text/plain": [
       "<Figure size 432x288 with 2 Axes>"
      ]
     },
     "metadata": {},
     "output_type": "display_data"
    }
   ],
   "source": [
    "# Plot a correlation heatmap\n",
    "sns.heatmap(feature_corr, square=True, cmap='RdYlGn')"
   ]
  },
  {
   "cell_type": "markdown",
   "metadata": {},
   "source": [
    "*Observations*: It appears that the strongest correlations are between **Energy and Loudness (+0.752046)** followed by **Energy and Acousticness (-0.697046)**, **Loudness and Acousticness (-0.601911)**, **Danceability and Valence (+0.466527)**, and a weaker, but still notable, correlation between **Loudness and Instrumentalness (-0.371383)**."
   ]
  },
  {
   "cell_type": "markdown",
   "metadata": {},
   "source": [
    "## Section 2: Preparation of Data for Modeling"
   ]
  },
  {
   "cell_type": "markdown",
   "metadata": {},
   "source": [
    "### Encode Categorical Data into Numberical Data\n",
    "- Where every observation of a given feature has a unique vector which al l elements are 0 aside from one value of 1, which corresponds to vector level\n",
    "- Step-by-Step process sourced from: https://www.ritchieng.com/machinelearning-one-hot-encoding/"
   ]
  },
  {
   "cell_type": "code",
   "execution_count": 99,
   "metadata": {},
   "outputs": [],
   "source": [
    "# Import necessary modules\n",
    "from sklearn.preprocessing import LabelEncoder, OneHotEncoder"
   ]
  },
  {
   "cell_type": "code",
   "execution_count": 100,
   "metadata": {},
   "outputs": [
    {
     "data": {
      "text/html": [
       "<div>\n",
       "<style scoped>\n",
       "    .dataframe tbody tr th:only-of-type {\n",
       "        vertical-align: middle;\n",
       "    }\n",
       "\n",
       "    .dataframe tbody tr th {\n",
       "        vertical-align: top;\n",
       "    }\n",
       "\n",
       "    .dataframe thead th {\n",
       "        text-align: right;\n",
       "    }\n",
       "</style>\n",
       "<table border=\"1\" class=\"dataframe\">\n",
       "  <thead>\n",
       "    <tr style=\"text-align: right;\">\n",
       "      <th></th>\n",
       "      <th>Genre</th>\n",
       "    </tr>\n",
       "  </thead>\n",
       "  <tbody>\n",
       "    <tr>\n",
       "      <th>131577</th>\n",
       "      <td>britishindierock</td>\n",
       "    </tr>\n",
       "    <tr>\n",
       "      <th>131578</th>\n",
       "      <td>britishindierock</td>\n",
       "    </tr>\n",
       "    <tr>\n",
       "      <th>131579</th>\n",
       "      <td>britishindierock</td>\n",
       "    </tr>\n",
       "  </tbody>\n",
       "</table>\n",
       "</div>"
      ],
      "text/plain": [
       "                   Genre\n",
       "131577  britishindierock\n",
       "131578  britishindierock\n",
       "131579  britishindierock"
      ]
     },
     "execution_count": 100,
     "metadata": {},
     "output_type": "execute_result"
    }
   ],
   "source": [
    "# Limit to categorical data using df.select_dtypes()\n",
    "categorical_genres = beats.select_dtypes(include=[object])\n",
    "categorical_genres.tail(3)"
   ]
  },
  {
   "cell_type": "code",
   "execution_count": 101,
   "metadata": {},
   "outputs": [
    {
     "data": {
      "text/plain": [
       "(131552, 1)"
      ]
     },
     "execution_count": 101,
     "metadata": {},
     "output_type": "execute_result"
    }
   ],
   "source": [
    "# Check data shape\n",
    "categorical_genres.shape"
   ]
  },
  {
   "cell_type": "markdown",
   "metadata": {},
   "source": [
    "#### Create a LabelEncoder object and fit it to each feature in categorical_genres"
   ]
  },
  {
   "cell_type": "code",
   "execution_count": 102,
   "metadata": {},
   "outputs": [
    {
     "data": {
      "text/html": [
       "<div>\n",
       "<style scoped>\n",
       "    .dataframe tbody tr th:only-of-type {\n",
       "        vertical-align: middle;\n",
       "    }\n",
       "\n",
       "    .dataframe tbody tr th {\n",
       "        vertical-align: top;\n",
       "    }\n",
       "\n",
       "    .dataframe thead th {\n",
       "        text-align: right;\n",
       "    }\n",
       "</style>\n",
       "<table border=\"1\" class=\"dataframe\">\n",
       "  <thead>\n",
       "    <tr style=\"text-align: right;\">\n",
       "      <th></th>\n",
       "      <th>Genre</th>\n",
       "    </tr>\n",
       "  </thead>\n",
       "  <tbody>\n",
       "    <tr>\n",
       "      <th>0</th>\n",
       "      <td>81</td>\n",
       "    </tr>\n",
       "    <tr>\n",
       "      <th>1</th>\n",
       "      <td>81</td>\n",
       "    </tr>\n",
       "    <tr>\n",
       "      <th>2</th>\n",
       "      <td>81</td>\n",
       "    </tr>\n",
       "    <tr>\n",
       "      <th>3</th>\n",
       "      <td>81</td>\n",
       "    </tr>\n",
       "    <tr>\n",
       "      <th>4</th>\n",
       "      <td>81</td>\n",
       "    </tr>\n",
       "  </tbody>\n",
       "</table>\n",
       "</div>"
      ],
      "text/plain": [
       "   Genre\n",
       "0     81\n",
       "1     81\n",
       "2     81\n",
       "3     81\n",
       "4     81"
      ]
     },
     "execution_count": 102,
     "metadata": {},
     "output_type": "execute_result"
    }
   ],
   "source": [
    "# Encode labels with value between 0 and n_classes-1\n",
    "le = preprocessing.LabelEncoder()\n",
    "\n",
    "# Fit/Transform data user df.apply() on le.fit_transform to all columns\n",
    "genres_encoded = categorical_genres.apply(le.fit_transform)\n",
    "genres_encoded.head()"
   ]
  },
  {
   "cell_type": "code",
   "execution_count": 103,
   "metadata": {},
   "outputs": [
    {
     "data": {
      "text/html": [
       "<div>\n",
       "<style scoped>\n",
       "    .dataframe tbody tr th:only-of-type {\n",
       "        vertical-align: middle;\n",
       "    }\n",
       "\n",
       "    .dataframe tbody tr th {\n",
       "        vertical-align: top;\n",
       "    }\n",
       "\n",
       "    .dataframe thead th {\n",
       "        text-align: right;\n",
       "    }\n",
       "</style>\n",
       "<table border=\"1\" class=\"dataframe\">\n",
       "  <thead>\n",
       "    <tr style=\"text-align: right;\">\n",
       "      <th></th>\n",
       "      <th>Genre</th>\n",
       "    </tr>\n",
       "  </thead>\n",
       "  <tbody>\n",
       "    <tr>\n",
       "      <th>131575</th>\n",
       "      <td>66</td>\n",
       "    </tr>\n",
       "    <tr>\n",
       "      <th>131576</th>\n",
       "      <td>66</td>\n",
       "    </tr>\n",
       "    <tr>\n",
       "      <th>131577</th>\n",
       "      <td>66</td>\n",
       "    </tr>\n",
       "    <tr>\n",
       "      <th>131578</th>\n",
       "      <td>66</td>\n",
       "    </tr>\n",
       "    <tr>\n",
       "      <th>131579</th>\n",
       "      <td>66</td>\n",
       "    </tr>\n",
       "  </tbody>\n",
       "</table>\n",
       "</div>"
      ],
      "text/plain": [
       "        Genre\n",
       "131575     66\n",
       "131576     66\n",
       "131577     66\n",
       "131578     66\n",
       "131579     66"
      ]
     },
     "execution_count": 103,
     "metadata": {},
     "output_type": "execute_result"
    }
   ],
   "source": [
    "genres_encoded.tail()"
   ]
  },
  {
   "cell_type": "markdown",
   "metadata": {},
   "source": [
    "#### Transform categorical_encoded integers into Binary values"
   ]
  },
  {
   "cell_type": "code",
   "execution_count": 130,
   "metadata": {},
   "outputs": [
    {
     "data": {
      "text/plain": [
       "(131552, 625)"
      ]
     },
     "execution_count": 130,
     "metadata": {},
     "output_type": "execute_result"
    }
   ],
   "source": [
    "# Encode categorical integer features and fit to data\n",
    "ohe = OneHotEncoder(handle_unknown='ignore').fit(genres_encoded)\n",
    "\n",
    "# Transform data\n",
    "onehotlabels = ohe.transform(genres_encoded).toarray()\n",
    "onehotlabels.shape"
   ]
  },
  {
   "cell_type": "code",
   "execution_count": 131,
   "metadata": {},
   "outputs": [
    {
     "data": {
      "text/plain": [
       "array([[0., 0., 0., ..., 0., 0., 0.],\n",
       "       [0., 0., 0., ..., 0., 0., 0.],\n",
       "       [0., 0., 0., ..., 0., 0., 0.],\n",
       "       ...,\n",
       "       [0., 0., 0., ..., 0., 0., 0.],\n",
       "       [0., 0., 0., ..., 0., 0., 0.],\n",
       "       [0., 0., 0., ..., 0., 0., 0.]])"
      ]
     },
     "execution_count": 131,
     "metadata": {},
     "output_type": "execute_result"
    }
   ],
   "source": [
    "# Test output\n",
    "onehotlabels"
   ]
  },
  {
   "cell_type": "code",
   "execution_count": 132,
   "metadata": {},
   "outputs": [
    {
     "data": {
      "text/html": [
       "<div>\n",
       "<style scoped>\n",
       "    .dataframe tbody tr th:only-of-type {\n",
       "        vertical-align: middle;\n",
       "    }\n",
       "\n",
       "    .dataframe tbody tr th {\n",
       "        vertical-align: top;\n",
       "    }\n",
       "\n",
       "    .dataframe thead th {\n",
       "        text-align: right;\n",
       "    }\n",
       "</style>\n",
       "<table border=\"1\" class=\"dataframe\">\n",
       "  <thead>\n",
       "    <tr style=\"text-align: right;\">\n",
       "      <th></th>\n",
       "      <th>0</th>\n",
       "      <th>1</th>\n",
       "      <th>2</th>\n",
       "      <th>3</th>\n",
       "      <th>4</th>\n",
       "      <th>5</th>\n",
       "      <th>6</th>\n",
       "      <th>7</th>\n",
       "      <th>8</th>\n",
       "      <th>9</th>\n",
       "      <th>...</th>\n",
       "      <th>615</th>\n",
       "      <th>616</th>\n",
       "      <th>617</th>\n",
       "      <th>618</th>\n",
       "      <th>619</th>\n",
       "      <th>620</th>\n",
       "      <th>621</th>\n",
       "      <th>622</th>\n",
       "      <th>623</th>\n",
       "      <th>624</th>\n",
       "    </tr>\n",
       "  </thead>\n",
       "  <tbody>\n",
       "    <tr>\n",
       "      <th>0</th>\n",
       "      <td>0.0</td>\n",
       "      <td>0.0</td>\n",
       "      <td>0.0</td>\n",
       "      <td>0.0</td>\n",
       "      <td>0.0</td>\n",
       "      <td>0.0</td>\n",
       "      <td>0.0</td>\n",
       "      <td>0.0</td>\n",
       "      <td>0.0</td>\n",
       "      <td>0.0</td>\n",
       "      <td>...</td>\n",
       "      <td>0.0</td>\n",
       "      <td>0.0</td>\n",
       "      <td>0.0</td>\n",
       "      <td>0.0</td>\n",
       "      <td>0.0</td>\n",
       "      <td>0.0</td>\n",
       "      <td>0.0</td>\n",
       "      <td>0.0</td>\n",
       "      <td>0.0</td>\n",
       "      <td>0.0</td>\n",
       "    </tr>\n",
       "  </tbody>\n",
       "</table>\n",
       "<p>1 rows × 625 columns</p>\n",
       "</div>"
      ],
      "text/plain": [
       "   0    1    2    3    4    5    6    7    8    9    ...  615  616  617  618  \\\n",
       "0  0.0  0.0  0.0  0.0  0.0  0.0  0.0  0.0  0.0  0.0  ...  0.0  0.0  0.0  0.0   \n",
       "\n",
       "   619  620  621  622  623  624  \n",
       "0  0.0  0.0  0.0  0.0  0.0  0.0  \n",
       "\n",
       "[1 rows x 625 columns]"
      ]
     },
     "execution_count": 132,
     "metadata": {},
     "output_type": "execute_result"
    }
   ],
   "source": [
    "# Convert onehotlabels to dataframe\n",
    "binary_genres = pd.DataFrame(onehotlabels)\n",
    "binary_genres.head(1)"
   ]
  },
  {
   "cell_type": "markdown",
   "metadata": {},
   "source": [
    "### Pipeline Data\n",
    "- Reduce the dimension of the feature space in such a way that new variables are orthogonal to each other\n",
    "- Source code: https://towardsdatascience.com/pca-using-python-scikit-learn-e653f8989e60\n",
    "- **Target Variable = Genre**"
   ]
  },
  {
   "cell_type": "code",
   "execution_count": 134,
   "metadata": {},
   "outputs": [],
   "source": [
    "# Import necessary modules\n",
    "from sklearn.preprocessing import StandardScaler"
   ]
  },
  {
   "cell_type": "markdown",
   "metadata": {},
   "source": [
    "#### 1. Standard Scaler\n",
    "- Standardize the dataset’s features onto unit scale (mean = 0 and variance = 1) which is a requirement for the optimal performance of machine learning algorithms"
   ]
  },
  {
   "cell_type": "code",
   "execution_count": 108,
   "metadata": {},
   "outputs": [
    {
     "data": {
      "text/plain": [
       "Index(['Danceability', 'Energy', 'Key', 'Loudness', 'Mode', 'Speechness',\n",
       "       'Acousticness', 'Instrumentalness', 'Liveness', 'Valence', 'Tempo',\n",
       "       'Duration_ms', 'time_signature', 'Genre'],\n",
       "      dtype='object')"
      ]
     },
     "execution_count": 108,
     "metadata": {},
     "output_type": "execute_result"
    }
   ],
   "source": [
    "beats.columns"
   ]
  },
  {
   "cell_type": "code",
   "execution_count": 111,
   "metadata": {},
   "outputs": [],
   "source": [
    "# Define the features of beats\n",
    "features = ['Danceability', 'Energy', 'Key', 'Loudness', 'Mode', 'Speechness',\n",
    "       'Acousticness', 'Instrumentalness', 'Liveness', 'Valence', 'Tempo',\n",
    "       'Duration_ms', 'time_signature', ]\n",
    "\n",
    "# Separate out the features\n",
    "feature_x = beats.loc[:, features].values\n",
    "\n",
    "# Separate out the target\n",
    "target_y = beats.loc[:,['Genre']].values\n",
    "\n",
    "# Standardizing the features\n",
    "standard_x = StandardScaler().fit_transform(x)"
   ]
  },
  {
   "cell_type": "code",
   "execution_count": 113,
   "metadata": {},
   "outputs": [
    {
     "data": {
      "text/plain": [
       "array([[ 0.38444802,  0.85049056,  1.31423592, ...,  0.34576344,\n",
       "         0.23254216,  0.23302161],\n",
       "       [-0.20129677,  1.09062019, -1.49032696, ...,  0.48604661,\n",
       "         0.3710963 ,  0.23302161],\n",
       "       [-1.65744737,  1.00108033,  0.75332334, ..., -0.26441666,\n",
       "        -0.6240011 ,  0.23302161],\n",
       "       ...,\n",
       "       [-1.54248811,  1.09876018,  1.5946922 , ...,  0.60937172,\n",
       "        -0.74922537,  0.23302161],\n",
       "       [-0.83083556,  1.03364028, -0.08804552, ...,  0.51661938,\n",
       "        -0.63116769,  0.23302161],\n",
       "       [-0.39289553,  0.77723068, -0.64895809, ...,  1.86723268,\n",
       "         0.03984043,  0.23302161]])"
      ]
     },
     "execution_count": 113,
     "metadata": {},
     "output_type": "execute_result"
    }
   ],
   "source": [
    "# Test output\n",
    "standard_x"
   ]
  },
  {
   "cell_type": "markdown",
   "metadata": {},
   "source": [
    "#### 2. PCA Projection to 2D\n",
    "- Dimensionality reduction of principal components to 2."
   ]
  },
  {
   "cell_type": "code",
   "execution_count": 110,
   "metadata": {},
   "outputs": [],
   "source": [
    "# Import necessary modules\n",
    "from sklearn.decomposition import PCA"
   ]
  },
  {
   "cell_type": "code",
   "execution_count": 119,
   "metadata": {},
   "outputs": [
    {
     "data": {
      "text/html": [
       "<div>\n",
       "<style scoped>\n",
       "    .dataframe tbody tr th:only-of-type {\n",
       "        vertical-align: middle;\n",
       "    }\n",
       "\n",
       "    .dataframe tbody tr th {\n",
       "        vertical-align: top;\n",
       "    }\n",
       "\n",
       "    .dataframe thead th {\n",
       "        text-align: right;\n",
       "    }\n",
       "</style>\n",
       "<table border=\"1\" class=\"dataframe\">\n",
       "  <thead>\n",
       "    <tr style=\"text-align: right;\">\n",
       "      <th></th>\n",
       "      <th>principal_component_1</th>\n",
       "      <th>principal_component_2</th>\n",
       "    </tr>\n",
       "  </thead>\n",
       "  <tbody>\n",
       "    <tr>\n",
       "      <th>0</th>\n",
       "      <td>-1.030262</td>\n",
       "      <td>0.716088</td>\n",
       "    </tr>\n",
       "    <tr>\n",
       "      <th>1</th>\n",
       "      <td>-1.492722</td>\n",
       "      <td>0.870694</td>\n",
       "    </tr>\n",
       "    <tr>\n",
       "      <th>2</th>\n",
       "      <td>-1.007226</td>\n",
       "      <td>1.174640</td>\n",
       "    </tr>\n",
       "    <tr>\n",
       "      <th>3</th>\n",
       "      <td>-0.800717</td>\n",
       "      <td>0.324883</td>\n",
       "    </tr>\n",
       "    <tr>\n",
       "      <th>4</th>\n",
       "      <td>-1.413227</td>\n",
       "      <td>0.879809</td>\n",
       "    </tr>\n",
       "  </tbody>\n",
       "</table>\n",
       "</div>"
      ],
      "text/plain": [
       "   principal_component_1  principal_component_2\n",
       "0              -1.030262               0.716088\n",
       "1              -1.492722               0.870694\n",
       "2              -1.007226               1.174640\n",
       "3              -0.800717               0.324883\n",
       "4              -1.413227               0.879809"
      ]
     },
     "execution_count": 119,
     "metadata": {},
     "output_type": "execute_result"
    }
   ],
   "source": [
    "# Create a Principle Component instance with 2 principle components\n",
    "pca = PCA(n_components=2)\n",
    "\n",
    "# Fit to standardized data\n",
    "principal_components = pca.fit_transform(standard_x)\n",
    "\n",
    "# Create a dataframe for the principle components\n",
    "principal_df = pd.DataFrame(data=principal_components, \n",
    "                            columns=['principal_component_1', 'principal_component_2'])\n",
    "principal_df.head()"
   ]
  },
  {
   "cell_type": "markdown",
   "metadata": {},
   "source": [
    "#### Concatenate Binary Response Variable of Genres,'onehotlabels', to principal components dataframe"
   ]
  },
  {
   "cell_type": "code",
   "execution_count": 135,
   "metadata": {},
   "outputs": [
    {
     "data": {
      "text/html": [
       "<div>\n",
       "<style scoped>\n",
       "    .dataframe tbody tr th:only-of-type {\n",
       "        vertical-align: middle;\n",
       "    }\n",
       "\n",
       "    .dataframe tbody tr th {\n",
       "        vertical-align: top;\n",
       "    }\n",
       "\n",
       "    .dataframe thead th {\n",
       "        text-align: right;\n",
       "    }\n",
       "</style>\n",
       "<table border=\"1\" class=\"dataframe\">\n",
       "  <thead>\n",
       "    <tr style=\"text-align: right;\">\n",
       "      <th></th>\n",
       "      <th>principal_component_1</th>\n",
       "      <th>principal_component_2</th>\n",
       "      <th>Genre</th>\n",
       "    </tr>\n",
       "  </thead>\n",
       "  <tbody>\n",
       "    <tr>\n",
       "      <th>0</th>\n",
       "      <td>-1.030262</td>\n",
       "      <td>0.716088</td>\n",
       "      <td>celticmetal</td>\n",
       "    </tr>\n",
       "    <tr>\n",
       "      <th>1</th>\n",
       "      <td>-1.492722</td>\n",
       "      <td>0.870694</td>\n",
       "      <td>celticmetal</td>\n",
       "    </tr>\n",
       "    <tr>\n",
       "      <th>2</th>\n",
       "      <td>-1.007226</td>\n",
       "      <td>1.174640</td>\n",
       "      <td>celticmetal</td>\n",
       "    </tr>\n",
       "    <tr>\n",
       "      <th>3</th>\n",
       "      <td>-0.800717</td>\n",
       "      <td>0.324883</td>\n",
       "      <td>celticmetal</td>\n",
       "    </tr>\n",
       "    <tr>\n",
       "      <th>4</th>\n",
       "      <td>-1.413227</td>\n",
       "      <td>0.879809</td>\n",
       "      <td>celticmetal</td>\n",
       "    </tr>\n",
       "  </tbody>\n",
       "</table>\n",
       "</div>"
      ],
      "text/plain": [
       "   principal_component_1  principal_component_2        Genre\n",
       "0              -1.030262               0.716088  celticmetal\n",
       "1              -1.492722               0.870694  celticmetal\n",
       "2              -1.007226               1.174640  celticmetal\n",
       "3              -0.800717               0.324883  celticmetal\n",
       "4              -1.413227               0.879809  celticmetal"
      ]
     },
     "execution_count": 135,
     "metadata": {},
     "output_type": "execute_result"
    }
   ],
   "source": [
    "# Concatenate DataFrames before plotting the data\n",
    "genre_principals = pd.concat([principal_df, beats[['Genre']]], axis = 1)\n",
    "genre_principals.head()"
   ]
  },
  {
   "cell_type": "code",
   "execution_count": 139,
   "metadata": {},
   "outputs": [],
   "source": [
    "genre_principals = genre_principals.dropna()"
   ]
  },
  {
   "cell_type": "code",
   "execution_count": 150,
   "metadata": {},
   "outputs": [
    {
     "data": {
      "text/plain": [
       "625"
      ]
     },
     "execution_count": 150,
     "metadata": {},
     "output_type": "execute_result"
    }
   ],
   "source": [
    "# Determine the numbers of Genre\n",
    "len(list(genre_principals.Genre.unique()))"
   ]
  },
  {
   "cell_type": "markdown",
   "metadata": {},
   "source": [
    "#### Visualize Data"
   ]
  },
  {
   "cell_type": "code",
   "execution_count": 160,
   "metadata": {},
   "outputs": [
    {
     "data": {
      "image/png": "[encoded data removed]",
      "text/plain": [
       "<Figure size 576x576 with 1 Axes>"
      ]
     },
     "metadata": {},
     "output_type": "display_data"
    }
   ],
   "source": [
    "fig = plt.figure(figsize = (8,8))\n",
    "ax = fig.add_subplot(1,1,1) \n",
    "ax.set_xlabel('Principal Component 1', fontsize = 15)\n",
    "ax.set_ylabel('Principal Component 2', fontsize = 15)\n",
    "ax.set_title('2 component PCA', fontsize = 20)\n",
    "\n",
    "targets = genre_principals.Genre.unique()\n",
    "colors = ['r', 'g', 'b']\n",
    "\n",
    "for target, color in zip(targets, colors):\n",
    "    indices_to_keep = genre_principals['Genre'] == target\n",
    "    ax.scatter(genre_principals.loc[indices_to_keep, 'principal_component_1'], \n",
    "               genre_principals.loc[indices_to_keep, 'principal_component_2'], \n",
    "               c = color, \n",
    "               s = 30)\n",
    "ax.legend(targets)\n",
    "ax.grid()"
   ]
  },
  {
   "cell_type": "markdown",
   "metadata": {},
   "source": [
    "#### Explained Variance"
   ]
  },
  {
   "cell_type": "code",
   "execution_count": 161,
   "metadata": {},
   "outputs": [
    {
     "data": {
      "text/plain": [
       "array([0.21918498, 0.12409449])"
      ]
     },
     "execution_count": 161,
     "metadata": {},
     "output_type": "execute_result"
    }
   ],
   "source": [
    "pca.explained_variance_ratio_"
   ]
  },
  {
   "cell_type": "code",
   "execution_count": null,
   "metadata": {},
   "outputs": [],
   "source": []
  },
  {
   "cell_type": "markdown",
   "metadata": {},
   "source": [
    "#### Load User Data\n",
    "- consists of triplets \n",
    "    - user ID\n",
    "    - song ID \n",
    "    - play count"
   ]
  },
  {
   "cell_type": "code",
   "execution_count": null,
   "metadata": {},
   "outputs": [],
   "source": [
    "# Load SongDb.tsv dataset - convert .tsv file to .csv for uploading\n",
    "music_user = open('data/train_triplets.txt')\n",
    "music_user = music_user.read()\n",
    "music_user"
   ]
  },
  {
   "cell_type": "code",
   "execution_count": null,
   "metadata": {},
   "outputs": [],
   "source": []
  },
  {
   "cell_type": "code",
   "execution_count": null,
   "metadata": {},
   "outputs": [],
   "source": []
  },
  {
   "cell_type": "code",
   "execution_count": 28,
   "metadata": {},
   "outputs": [
    {
     "name": "stderr",
     "output_type": "stream",
     "text": [
      "/anaconda3/lib/python3.7/site-packages/scipy/stats/stats.py:1713: FutureWarning: Using a non-tuple sequence for multidimensional indexing is deprecated; use `arr[tuple(seq)]` instead of `arr[seq]`. In the future this will be interpreted as an array index, `arr[np.array(seq)]`, which will result either in an error or a different result.\n",
      "  return np.add.reduce(sorted[indexer] * weights, axis=axis) / sumval\n"
     ]
    },
    {
     "data": {
      "text/plain": [
       "<seaborn.axisgrid.PairGrid at 0x1a23e97710>"
      ]
     },
     "execution_count": 28,
     "metadata": {},
     "output_type": "execute_result"
    },
    {
     "data": {
      "image/png": "[encoded data removed]",
      "text/plain": [
       "<Figure size 900x900 with 30 Axes>"
      ]
     },
     "metadata": {
      "needs_background": "light"
     },
     "output_type": "display_data"
    }
   ],
   "source": [
    "sns.pairplot(data=feature_corr[['Danceability', 'Energy', 'Loudness', \n",
    "                              'Acousticness','Valence']], kind=\"reg\")"
   ]
  },
  {
   "cell_type": "code",
   "execution_count": null,
   "metadata": {},
   "outputs": [],
   "source": []
  },
  {
   "cell_type": "code",
   "execution_count": null,
   "metadata": {},
   "outputs": [],
   "source": []
  },
  {
   "cell_type": "markdown",
   "metadata": {},
   "source": [
    "## Part 2: Learning\n",
    "- Model Selection\n",
    "    - Cross-Validation\n",
    "    - Performance Metrics\n",
    "    - Hyperparameter Optimization"
   ]
  },
  {
   "cell_type": "markdown",
   "metadata": {},
   "source": [
    "#### Testing and Training Data"
   ]
  },
  {
   "cell_type": "code",
   "execution_count": 164,
   "metadata": {},
   "outputs": [
    {
     "data": {
      "text/html": [
       "<div>\n",
       "<style scoped>\n",
       "    .dataframe tbody tr th:only-of-type {\n",
       "        vertical-align: middle;\n",
       "    }\n",
       "\n",
       "    .dataframe tbody tr th {\n",
       "        vertical-align: top;\n",
       "    }\n",
       "\n",
       "    .dataframe thead th {\n",
       "        text-align: right;\n",
       "    }\n",
       "</style>\n",
       "<table border=\"1\" class=\"dataframe\">\n",
       "  <thead>\n",
       "    <tr style=\"text-align: right;\">\n",
       "      <th></th>\n",
       "      <th>principal_component_1</th>\n",
       "      <th>principal_component_2</th>\n",
       "      <th>Genre</th>\n",
       "    </tr>\n",
       "  </thead>\n",
       "  <tbody>\n",
       "    <tr>\n",
       "      <th>49978</th>\n",
       "      <td>-1.353764</td>\n",
       "      <td>-1.150608</td>\n",
       "      <td>danishpoprock</td>\n",
       "    </tr>\n",
       "    <tr>\n",
       "      <th>108000</th>\n",
       "      <td>1.641677</td>\n",
       "      <td>-1.737836</td>\n",
       "      <td>cornwallindie</td>\n",
       "    </tr>\n",
       "    <tr>\n",
       "      <th>81579</th>\n",
       "      <td>3.760017</td>\n",
       "      <td>-0.084467</td>\n",
       "      <td>deepsoundtrack</td>\n",
       "    </tr>\n",
       "    <tr>\n",
       "      <th>45304</th>\n",
       "      <td>-1.022494</td>\n",
       "      <td>-0.580343</td>\n",
       "      <td>volksmusik</td>\n",
       "    </tr>\n",
       "    <tr>\n",
       "      <th>46052</th>\n",
       "      <td>-0.867436</td>\n",
       "      <td>-1.027483</td>\n",
       "      <td>nuelectro</td>\n",
       "    </tr>\n",
       "  </tbody>\n",
       "</table>\n",
       "</div>"
      ],
      "text/plain": [
       "        principal_component_1  principal_component_2           Genre\n",
       "49978               -1.353764              -1.150608   danishpoprock\n",
       "108000               1.641677              -1.737836   cornwallindie\n",
       "81579                3.760017              -0.084467  deepsoundtrack\n",
       "45304               -1.022494              -0.580343      volksmusik\n",
       "46052               -0.867436              -1.027483       nuelectro"
      ]
     },
     "execution_count": 164,
     "metadata": {},
     "output_type": "execute_result"
    }
   ],
   "source": [
    "train_data, test_data = train_test_split(genre_principals, test_size=0.20, random_state=0)\n",
    "train_data.head(5)"
   ]
  },
  {
   "cell_type": "markdown",
   "metadata": {},
   "source": [
    "#### Further Split Training Data into Train and Test sets"
   ]
  },
  {
   "cell_type": "code",
   "execution_count": 167,
   "metadata": {},
   "outputs": [],
   "source": [
    "# Entire dataset (even with response variable)\n",
    "X = train_data.copy().drop(columns=['Genre'])\n",
    "\n",
    "# The response variable\n",
    "y = train_data.copy().pop('Genre')"
   ]
  },
  {
   "cell_type": "code",
   "execution_count": 168,
   "metadata": {},
   "outputs": [
    {
     "data": {
      "text/plain": [
       "(73653, 31566, 73653, 31566)"
      ]
     },
     "execution_count": 168,
     "metadata": {},
     "output_type": "execute_result"
    }
   ],
   "source": [
    "X_train, X_test, y_train, y_test = train_test_split(X.values, y.values, test_size=0.3, random_state=42)\n",
    "len(X_train), len(X_test), len(y_train), len(y_test)"
   ]
  },
  {
   "cell_type": "code",
   "execution_count": 175,
   "metadata": {},
   "outputs": [],
   "source": [
    "def plot_decision_regions(X, y, classifier, resolution=0.2):\n",
    "    \n",
    "    # setup marker generator and color map\n",
    "    markers = ('s', 'x', 'o', '^', 'v')\n",
    "    colors = ('red', 'blue', 'lightgreen', 'gray', 'cyan')\n",
    "    cmap = ListedColormap(colors[:len(np.unique(y))])\n",
    "    \n",
    "    # plot the decision surface\n",
    "    x1_min, x1_max = X[:, 0].min() - 1, X[:, 0].max() + 1\n",
    "    x2_min, x2_max = X[:, 1].min() - 1, X[:, 1].max() + 1\n",
    "    xx1, xx2 = np.meshgrid(np.arange(x1_min, x1_max, resolution),\n",
    "                           np.arange(x2_min, x2_max, resolution))\n",
    "    Z = classifier.predict(np.array([xx1.ravel(), xx2.ravel()]).T)\n",
    "    Z = Z.reshape(xx1.shape)\n",
    "    plt.contourf(xx1, xx2, Z, alpha=0.3, cmap=cmap)\n",
    "    plt.xlim(xx1.min(), xx1.max())\n",
    "    plt.ylim(xx2.min(), xx2.max())\n",
    "    \n",
    "    # plot class samples\n",
    "    for idx, c1 in enumerate(np.unique(y)):\n",
    "        plt.scatter(x=X[y == c1, 0],\n",
    "                    y=Y[ y == cl, 1],\n",
    "                    alpha=0.8,\n",
    "                    c=colors[idx],\n",
    "                    marker=markers[idx],\n",
    "                    label=c1,\n",
    "                    edgecolor='black')"
   ]
  },
  {
   "cell_type": "markdown",
   "metadata": {},
   "source": [
    "#### Decision Tree Classifier"
   ]
  },
  {
   "cell_type": "code",
   "execution_count": 170,
   "metadata": {},
   "outputs": [],
   "source": [
    "# Import necessary modules\n",
    "from sklearn.tree import DecisionTreeClassifier"
   ]
  },
  {
   "cell_type": "code",
   "execution_count": 171,
   "metadata": {},
   "outputs": [
    {
     "data": {
      "text/plain": [
       "DecisionTreeClassifier(class_weight=None, criterion='gini', max_depth=4,\n",
       "            max_features=None, max_leaf_nodes=None,\n",
       "            min_impurity_decrease=0.0, min_impurity_split=None,\n",
       "            min_samples_leaf=1, min_samples_split=2,\n",
       "            min_weight_fraction_leaf=0.0, presort=False, random_state=1,\n",
       "            splitter='best')"
      ]
     },
     "execution_count": 171,
     "metadata": {},
     "output_type": "execute_result"
    }
   ],
   "source": [
    "# Create a tree instance\n",
    "tree = DecisionTreeClassifier(criterion='gini', max_depth=4, random_state=1)\n",
    "\n",
    "# Fit data to tree\n",
    "tree.fit(X_train, y_train)"
   ]
  },
  {
   "cell_type": "code",
   "execution_count": null,
   "metadata": {},
   "outputs": [],
   "source": [
    "X_combined = np.vstack((X_train, X_test))\n",
    "y_combined = np.hstack((y_train, y_test))\n",
    "plot_decision_regions(X_combined, y_combined, classifier=tree)"
   ]
  },
  {
   "cell_type": "markdown",
   "metadata": {},
   "source": [
    "#### K- Nearest Neighbors"
   ]
  },
  {
   "cell_type": "code",
   "execution_count": 34,
   "metadata": {},
   "outputs": [],
   "source": [
    "# Import necessary modules\n",
    "from sklearn.neighbors import KNeighborsClassifier\n",
    "from sklearn.neighbors import kneighbors_graph\n",
    "from sklearn.cluster import AgglomerativeClustering"
   ]
  },
  {
   "cell_type": "code",
   "execution_count": 35,
   "metadata": {},
   "outputs": [],
   "source": [
    "# Create KNN classifier\n",
    "knn = KNeighborsClassifier(n_neighbors=5)"
   ]
  },
  {
   "cell_type": "code",
   "execution_count": null,
   "metadata": {},
   "outputs": [],
   "source": [
    "plot_decision_regions(X, y, classifier=knn)"
   ]
  },
  {
   "cell_type": "markdown",
   "metadata": {},
   "source": [
    "#### K-fold Cross-Validation\n",
    "- Split Training Data into Various Groups for Cross-Validation"
   ]
  },
  {
   "cell_type": "code",
   "execution_count": 36,
   "metadata": {},
   "outputs": [
    {
     "data": {
      "text/html": [
       "<div>\n",
       "<style scoped>\n",
       "    .dataframe tbody tr th:only-of-type {\n",
       "        vertical-align: middle;\n",
       "    }\n",
       "\n",
       "    .dataframe tbody tr th {\n",
       "        vertical-align: top;\n",
       "    }\n",
       "\n",
       "    .dataframe thead th {\n",
       "        text-align: right;\n",
       "    }\n",
       "</style>\n",
       "<table border=\"1\" class=\"dataframe\">\n",
       "  <thead>\n",
       "    <tr style=\"text-align: right;\">\n",
       "      <th></th>\n",
       "      <th>Split Number</th>\n",
       "      <th>X_train</th>\n",
       "      <th>X_test</th>\n",
       "      <th>y_train</th>\n",
       "      <th>y_test</th>\n",
       "      <th>knn</th>\n",
       "      <th>kparams</th>\n",
       "      <th>kneighbors</th>\n",
       "      <th>kpredict</th>\n",
       "      <th>kscore</th>\n",
       "    </tr>\n",
       "  </thead>\n",
       "  <tbody>\n",
       "  </tbody>\n",
       "</table>\n",
       "</div>"
      ],
      "text/plain": [
       "Empty DataFrame\n",
       "Columns: [Split Number, X_train, X_test, y_train, y_test, knn, kparams, kneighbors, kpredict, kscore]\n",
       "Index: []"
      ]
     },
     "execution_count": 36,
     "metadata": {},
     "output_type": "execute_result"
    }
   ],
   "source": [
    "# scikit-learn k-fold cross-validation\n",
    "from numpy import array\n",
    "from sklearn.model_selection import KFold\n",
    "\n",
    "# prepare cross validation\n",
    "kfold = KFold(n_splits=5, shuffle=True, random_state=9)\n",
    "\n",
    "# create a dataframe to hold training and testing data from splits\n",
    "kfold_splits = pd.DataFrame(columns=['Split Number','X_train', 'X_test', 'y_train', 'y_test', 'knn', 'kparams','kneighbors', 'kpredict', 'kscore'])\n",
    "kfold_splits"
   ]
  },
  {
   "cell_type": "code",
   "execution_count": 37,
   "metadata": {},
   "outputs": [
    {
     "name": "stdout",
     "output_type": "stream",
     "text": [
      "TRAIN: [     0      1      2 ... 105238 105239 105240] TEST: [    12     14     24 ... 105226 105235 105237]\n",
      "TRAIN: [     0      1      2 ... 105237 105239 105240] TEST: [     4      8     11 ... 105233 105234 105238]\n",
      "TRAIN: [     0      1      4 ... 105238 105239 105240] TEST: [     2      3      7 ... 105220 105231 105232]\n",
      "TRAIN: [     2      3      4 ... 105237 105238 105240] TEST: [     0      1      5 ... 105227 105230 105239]\n",
      "TRAIN: [     0      1      2 ... 105237 105238 105239] TEST: [     6     10     35 ... 105228 105236 105240]\n"
     ]
    }
   ],
   "source": [
    "i = 0\n",
    "\n",
    "# enumerate splits\n",
    "for train_index, test_index in kfold.split(X, y):\n",
    "    print(\"TRAIN:\", train_index, \"TEST:\", test_index)\n",
    "    X_train, X_test = X.iloc[train_index], X.iloc[test_index]\n",
    "    y_train, y_test = y.iloc[train_index], y.iloc[test_index]\n",
    "    \n",
    "    i += 1\n",
    "    # add row to kfolds dataframe\n",
    "    kfold_splits = kfold_splits.append({'Split Number':i , \n",
    "                         'X_train':X_train, \n",
    "                         'X_test':X_test, \n",
    "                         'y_train':y_train, \n",
    "                         'y_test':y_test, \n",
    "                         'knn':np.nan,\n",
    "                         'kparams':np.nan,\n",
    "                         'kneighbors':np.nan,\n",
    "                         'kpredict':np.nan,\n",
    "                         'kscore':np.nan}, ignore_index=True)"
   ]
  },
  {
   "cell_type": "code",
   "execution_count": 38,
   "metadata": {},
   "outputs": [
    {
     "name": "stdout",
     "output_type": "stream",
     "text": [
      "0\n",
      "1\n",
      "2\n",
      "3\n",
      "4\n"
     ]
    }
   ],
   "source": [
    "# Create fold instance to fit \n",
    "for split in kfold_splits['Split Number']:\n",
    "    idx = split - 1\n",
    "    X_train, X_test = kfold_splits['X_train'].loc[idx], kfold_splits['X_test'].loc[idx]\n",
    "    y_train, y_test = kfold_splits['y_train'].loc[idx], kfold_splits['y_test'].loc[idx]\n",
    "    \n",
    "    # Fit the classifier to the data\n",
    "    knn = knn.fit(X_train,y_train)\n",
    "    kparams = knn.get_params()\n",
    "    kneighbors = knn.kneighbors()\n",
    "    \n",
    "    # Test model prediction and accuracy\n",
    "    kpredict = knn.predict(X_test)\n",
    "    kscore = knn.score(X_test, y_test)\n",
    "    \n",
    "    # Add to dataframe\n",
    "    kfold_splits.at[idx, 'knn'] = knn\n",
    "    kfold_splits.at[idx, 'kparams'] = kparams\n",
    "    kfold_splits.at[idx, 'kneighbors'] = kneighbors\n",
    "    kfold_splits.at[idx, 'kpredict'] = kpredict\n",
    "    kfold_splits.at[idx, 'kscore'] = kscore\n",
    "    print(idx)"
   ]
  },
  {
   "cell_type": "code",
   "execution_count": 39,
   "metadata": {},
   "outputs": [
    {
     "data": {
      "text/html": [
       "<div>\n",
       "<style scoped>\n",
       "    .dataframe tbody tr th:only-of-type {\n",
       "        vertical-align: middle;\n",
       "    }\n",
       "\n",
       "    .dataframe tbody tr th {\n",
       "        vertical-align: top;\n",
       "    }\n",
       "\n",
       "    .dataframe thead th {\n",
       "        text-align: right;\n",
       "    }\n",
       "</style>\n",
       "<table border=\"1\" class=\"dataframe\">\n",
       "  <thead>\n",
       "    <tr style=\"text-align: right;\">\n",
       "      <th></th>\n",
       "      <th>Split Number</th>\n",
       "      <th>X_train</th>\n",
       "      <th>X_test</th>\n",
       "      <th>y_train</th>\n",
       "      <th>y_test</th>\n",
       "      <th>knn</th>\n",
       "      <th>kparams</th>\n",
       "      <th>kneighbors</th>\n",
       "      <th>kpredict</th>\n",
       "      <th>kscore</th>\n",
       "    </tr>\n",
       "  </thead>\n",
       "  <tbody>\n",
       "    <tr>\n",
       "      <th>0</th>\n",
       "      <td>1</td>\n",
       "      <td>Name  Danceability   Energy  Loudness...</td>\n",
       "      <td>Name  Danceability  Energy  Loudness ...</td>\n",
       "      <td>128101    441\n",
       "74486      91\n",
       "117692    622\n",
       "9504...</td>\n",
       "      <td>69486     531\n",
       "114918    525\n",
       "104221    414\n",
       "7925...</td>\n",
       "      <td>KNeighborsClassifier(algorithm='auto', leaf_si...</td>\n",
       "      <td>{'algorithm': 'auto', 'leaf_size': 30, 'metric...</td>\n",
       "      <td>([[2.32551719838835, 3.2078500588400334, 4.194...</td>\n",
       "      <td>[275, 52, 574, 89, 9, 532, 6, 545, 235, 347, 2...</td>\n",
       "      <td>0.0785786</td>\n",
       "    </tr>\n",
       "    <tr>\n",
       "      <th>1</th>\n",
       "      <td>2</td>\n",
       "      <td>Name  Danceability   Energy  Loudness...</td>\n",
       "      <td>Name  Danceability  Energy  Loudness ...</td>\n",
       "      <td>128101    441\n",
       "74486      91\n",
       "117692    622\n",
       "9504...</td>\n",
       "      <td>64609     229\n",
       "39029     528\n",
       "25974     581\n",
       "7167...</td>\n",
       "      <td>KNeighborsClassifier(algorithm='auto', leaf_si...</td>\n",
       "      <td>{'algorithm': 'auto', 'leaf_size': 30, 'metric...</td>\n",
       "      <td>([[2.32551719838835, 3.2078500588400334, 4.194...</td>\n",
       "      <td>[33, 9, 291, 11, 426, 498, 45, 155, 51, 148, 1...</td>\n",
       "      <td>0.0785823</td>\n",
       "    </tr>\n",
       "    <tr>\n",
       "      <th>2</th>\n",
       "      <td>3</td>\n",
       "      <td>Name  Danceability   Energy  Loudness...</td>\n",
       "      <td>Name  Danceability  Energy  Loudness ...</td>\n",
       "      <td>128101    441\n",
       "74486      91\n",
       "64609     229\n",
       "9074...</td>\n",
       "      <td>117692    622\n",
       "95045     317\n",
       "12675     555\n",
       "7788...</td>\n",
       "      <td>KNeighborsClassifier(algorithm='auto', leaf_si...</td>\n",
       "      <td>{'algorithm': 'auto', 'leaf_size': 30, 'metric...</td>\n",
       "      <td>([[2.32551719838835, 4.194766024464297, 5.0410...</td>\n",
       "      <td>[36, 4, 423, 115, 275, 227, 238, 155, 488, 13,...</td>\n",
       "      <td>0.0782022</td>\n",
       "    </tr>\n",
       "    <tr>\n",
       "      <th>3</th>\n",
       "      <td>4</td>\n",
       "      <td>Name  Danceability   Energy  Loudness...</td>\n",
       "      <td>Name  Danceability  Energy  Loudness ...</td>\n",
       "      <td>117692    622\n",
       "95045     317\n",
       "64609     229\n",
       "4389...</td>\n",
       "      <td>128101    441\n",
       "74486      91\n",
       "90742     606\n",
       "2813...</td>\n",
       "      <td>KNeighborsClassifier(algorithm='auto', leaf_si...</td>\n",
       "      <td>{'algorithm': 'auto', 'leaf_size': 30, 'metric...</td>\n",
       "      <td>([[2.732158772838797, 4.066106737408648, 6.937...</td>\n",
       "      <td>[190, 285, 81, 126, 37, 72, 320, 81, 101, 332,...</td>\n",
       "      <td>0.0791524</td>\n",
       "    </tr>\n",
       "    <tr>\n",
       "      <th>4</th>\n",
       "      <td>5</td>\n",
       "      <td>Name  Danceability  Energy  Loudness ...</td>\n",
       "      <td>Name  Danceability   Energy  Loudness...</td>\n",
       "      <td>128101    441\n",
       "74486      91\n",
       "117692    622\n",
       "9504...</td>\n",
       "      <td>43891       5\n",
       "22548     532\n",
       "81609     183\n",
       "1135...</td>\n",
       "      <td>KNeighborsClassifier(algorithm='auto', leaf_si...</td>\n",
       "      <td>{'algorithm': 'auto', 'leaf_size': 30, 'metric...</td>\n",
       "      <td>([[2.32551719838835, 3.2078500588400334, 4.817...</td>\n",
       "      <td>[355, 532, 495, 115, 190, 9, 134, 12, 49, 77, ...</td>\n",
       "      <td>0.0769669</td>\n",
       "    </tr>\n",
       "  </tbody>\n",
       "</table>\n",
       "</div>"
      ],
      "text/plain": [
       "  Split Number                                            X_train  \\\n",
       "0            1           Name  Danceability   Energy  Loudness...   \n",
       "1            2           Name  Danceability   Energy  Loudness...   \n",
       "2            3           Name  Danceability   Energy  Loudness...   \n",
       "3            4           Name  Danceability   Energy  Loudness...   \n",
       "4            5           Name  Danceability  Energy  Loudness ...   \n",
       "\n",
       "                                              X_test  \\\n",
       "0           Name  Danceability  Energy  Loudness ...   \n",
       "1           Name  Danceability  Energy  Loudness ...   \n",
       "2           Name  Danceability  Energy  Loudness ...   \n",
       "3           Name  Danceability  Energy  Loudness ...   \n",
       "4           Name  Danceability   Energy  Loudness...   \n",
       "\n",
       "                                             y_train  \\\n",
       "0  128101    441\n",
       "74486      91\n",
       "117692    622\n",
       "9504...   \n",
       "1  128101    441\n",
       "74486      91\n",
       "117692    622\n",
       "9504...   \n",
       "2  128101    441\n",
       "74486      91\n",
       "64609     229\n",
       "9074...   \n",
       "3  117692    622\n",
       "95045     317\n",
       "64609     229\n",
       "4389...   \n",
       "4  128101    441\n",
       "74486      91\n",
       "117692    622\n",
       "9504...   \n",
       "\n",
       "                                              y_test  \\\n",
       "0  69486     531\n",
       "114918    525\n",
       "104221    414\n",
       "7925...   \n",
       "1  64609     229\n",
       "39029     528\n",
       "25974     581\n",
       "7167...   \n",
       "2  117692    622\n",
       "95045     317\n",
       "12675     555\n",
       "7788...   \n",
       "3  128101    441\n",
       "74486      91\n",
       "90742     606\n",
       "2813...   \n",
       "4  43891       5\n",
       "22548     532\n",
       "81609     183\n",
       "1135...   \n",
       "\n",
       "                                                 knn  \\\n",
       "0  KNeighborsClassifier(algorithm='auto', leaf_si...   \n",
       "1  KNeighborsClassifier(algorithm='auto', leaf_si...   \n",
       "2  KNeighborsClassifier(algorithm='auto', leaf_si...   \n",
       "3  KNeighborsClassifier(algorithm='auto', leaf_si...   \n",
       "4  KNeighborsClassifier(algorithm='auto', leaf_si...   \n",
       "\n",
       "                                             kparams  \\\n",
       "0  {'algorithm': 'auto', 'leaf_size': 30, 'metric...   \n",
       "1  {'algorithm': 'auto', 'leaf_size': 30, 'metric...   \n",
       "2  {'algorithm': 'auto', 'leaf_size': 30, 'metric...   \n",
       "3  {'algorithm': 'auto', 'leaf_size': 30, 'metric...   \n",
       "4  {'algorithm': 'auto', 'leaf_size': 30, 'metric...   \n",
       "\n",
       "                                          kneighbors  \\\n",
       "0  ([[2.32551719838835, 3.2078500588400334, 4.194...   \n",
       "1  ([[2.32551719838835, 3.2078500588400334, 4.194...   \n",
       "2  ([[2.32551719838835, 4.194766024464297, 5.0410...   \n",
       "3  ([[2.732158772838797, 4.066106737408648, 6.937...   \n",
       "4  ([[2.32551719838835, 3.2078500588400334, 4.817...   \n",
       "\n",
       "                                            kpredict     kscore  \n",
       "0  [275, 52, 574, 89, 9, 532, 6, 545, 235, 347, 2...  0.0785786  \n",
       "1  [33, 9, 291, 11, 426, 498, 45, 155, 51, 148, 1...  0.0785823  \n",
       "2  [36, 4, 423, 115, 275, 227, 238, 155, 488, 13,...  0.0782022  \n",
       "3  [190, 285, 81, 126, 37, 72, 320, 81, 101, 332,...  0.0791524  \n",
       "4  [355, 532, 495, 115, 190, 9, 134, 12, 49, 77, ...  0.0769669  "
      ]
     },
     "execution_count": 39,
     "metadata": {},
     "output_type": "execute_result"
    }
   ],
   "source": [
    "# Test output\n",
    "kfold_splits"
   ]
  },
  {
   "cell_type": "markdown",
   "metadata": {},
   "source": [
    "#### Visualize Data"
   ]
  },
  {
   "cell_type": "code",
   "execution_count": 126,
   "metadata": {},
   "outputs": [],
   "source": [
    "#{knn.radius_neighbors_graph() for knn in kfold_splits['knn']}\n",
    "for knn in kfold_splits['knn']:\n",
    "    knn_graph = kneighbors_graph(X, 30, include_self=False)"
   ]
  },
  {
   "cell_type": "markdown",
   "metadata": {},
   "source": [
    "#### Decision Regions\n",
    "- Motification of original source code from p. 32 of the 'Python Machine Learning' textbook by Sebastian Raschaka & Vahid Mirjalili "
   ]
  },
  {
   "cell_type": "markdown",
   "metadata": {},
   "source": [
    "#### Recommendation"
   ]
  },
  {
   "cell_type": "code",
   "execution_count": null,
   "metadata": {},
   "outputs": [],
   "source": []
  },
  {
   "cell_type": "markdown",
   "metadata": {},
   "source": [
    "#### Testing and Training Data"
   ]
  },
  {
   "cell_type": "code",
   "execution_count": 30,
   "metadata": {},
   "outputs": [
    {
     "data": {
      "text/html": [
       "<div>\n",
       "<style scoped>\n",
       "    .dataframe tbody tr th:only-of-type {\n",
       "        vertical-align: middle;\n",
       "    }\n",
       "\n",
       "    .dataframe tbody tr th {\n",
       "        vertical-align: top;\n",
       "    }\n",
       "\n",
       "    .dataframe thead th {\n",
       "        text-align: right;\n",
       "    }\n",
       "</style>\n",
       "<table border=\"1\" class=\"dataframe\">\n",
       "  <thead>\n",
       "    <tr style=\"text-align: right;\">\n",
       "      <th></th>\n",
       "      <th>Name</th>\n",
       "      <th>Danceability</th>\n",
       "      <th>Energy</th>\n",
       "      <th>Loudness</th>\n",
       "      <th>Acousticness</th>\n",
       "      <th>Valence</th>\n",
       "      <th>Genre</th>\n",
       "    </tr>\n",
       "  </thead>\n",
       "  <tbody>\n",
       "    <tr>\n",
       "      <th>128101</th>\n",
       "      <td>61312</td>\n",
       "      <td>0.498</td>\n",
       "      <td>0.357</td>\n",
       "      <td>-8.918</td>\n",
       "      <td>0.979000</td>\n",
       "      <td>0.5560</td>\n",
       "      <td>441</td>\n",
       "    </tr>\n",
       "    <tr>\n",
       "      <th>74486</th>\n",
       "      <td>83742</td>\n",
       "      <td>0.287</td>\n",
       "      <td>0.872</td>\n",
       "      <td>-6.202</td>\n",
       "      <td>0.000232</td>\n",
       "      <td>0.5060</td>\n",
       "      <td>91</td>\n",
       "    </tr>\n",
       "    <tr>\n",
       "      <th>117692</th>\n",
       "      <td>21321</td>\n",
       "      <td>0.373</td>\n",
       "      <td>0.574</td>\n",
       "      <td>-8.829</td>\n",
       "      <td>0.898000</td>\n",
       "      <td>0.3960</td>\n",
       "      <td>622</td>\n",
       "    </tr>\n",
       "    <tr>\n",
       "      <th>95045</th>\n",
       "      <td>42260</td>\n",
       "      <td>0.368</td>\n",
       "      <td>0.189</td>\n",
       "      <td>-12.213</td>\n",
       "      <td>0.888000</td>\n",
       "      <td>0.3490</td>\n",
       "      <td>317</td>\n",
       "    </tr>\n",
       "    <tr>\n",
       "      <th>64609</th>\n",
       "      <td>80100</td>\n",
       "      <td>0.236</td>\n",
       "      <td>0.568</td>\n",
       "      <td>-6.797</td>\n",
       "      <td>0.108000</td>\n",
       "      <td>0.0392</td>\n",
       "      <td>229</td>\n",
       "    </tr>\n",
       "  </tbody>\n",
       "</table>\n",
       "</div>"
      ],
      "text/plain": [
       "         Name  Danceability  Energy  Loudness  Acousticness  Valence  Genre\n",
       "128101  61312         0.498   0.357    -8.918      0.979000   0.5560    441\n",
       "74486   83742         0.287   0.872    -6.202      0.000232   0.5060     91\n",
       "117692  21321         0.373   0.574    -8.829      0.898000   0.3960    622\n",
       "95045   42260         0.368   0.189   -12.213      0.888000   0.3490    317\n",
       "64609   80100         0.236   0.568    -6.797      0.108000   0.0392    229"
      ]
     },
     "execution_count": 30,
     "metadata": {},
     "output_type": "execute_result"
    }
   ],
   "source": [
    "train_data, test_data = train_test_split(genres, test_size=0.20, random_state=0)\n",
    "train_data.head(5)"
   ]
  }
 ],
 "metadata": {
  "kernelspec": {
   "display_name": "Python 3",
   "language": "python",
   "name": "python3"
  },
  "language_info": {
   "codemirror_mode": {
    "name": "ipython",
    "version": 3
   },
   "file_extension": ".py",
   "mimetype": "text/x-python",
   "name": "python",
   "nbconvert_exporter": "python",
   "pygments_lexer": "ipython3",
   "version": "3.7.3"
  }
 },
 "nbformat": 4,
 "nbformat_minor": 2
}
