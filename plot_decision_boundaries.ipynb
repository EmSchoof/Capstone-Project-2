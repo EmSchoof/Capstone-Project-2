{
 "cells": [
  {
   "cell_type": "code",
   "execution_count": 15,
   "metadata": {},
   "outputs": [],
   "source": [
    "\"\"\"\n",
    "Python Machine Learning: Machine Learning and Deep Learning with Python\n",
    "by Sebastian Raschka & Vahid Mirjalili\n",
    "\n",
    "Chapter 2: Training Simple Machine Learning Algorithms for Classigication, pg. 32\n",
    "\n",
    "**MODIFIED**\n",
    "\n",
    "\"\"\"\n",
    "\n",
    "def plot_decision_regions(X, y, classifier, resolution=0.2):\n",
    "    \"\"\"Create a General Plot Decision Regions\"\"\"\n",
    "    \n",
    "    # setup marker generator and color map\n",
    "    markers = ('s', 'o', 'x', '^', 'v', \n",
    "               '.', '_', 'H', '+', ',',\n",
    "               '|', 'p', 'X', '1', '2',\n",
    "               '3', '4', '>', '<', '*')\n",
    "    colors = ('r', 'b', 'g', 'm', 'y',\n",
    "              'k', 'lightgreen', 'lightblue', 'pink', 'gray', \n",
    "              'cyan', 'violet', 'gold', 'w', 'salmon',\n",
    "              'olive', 'teal', 'steelblue', 'indigo', 'lime')\n",
    "    cmap = ListedColormap(colors[:len(np.unique(y))])\n",
    "    \n",
    "    # plot the decision surface\n",
    "    x1_min, x1_max = X[:, 0].min() - 1, X[:, 0].max() + 1\n",
    "    x2_min, x2_max = X[:, 1].min() - 1, X[:, 1].max() + 1\n",
    "    \n",
    "    xx1, xx2 = np.meshgrid(np.arange(x1_min, x1_max, resolution),\n",
    "                            np.arange(x2_min, x2_max, resolution))\n",
    "    \n",
    "    Z = classifier.predict(np.array([xx1.ravel(), xx2.ravel()]).T)\n",
    "    Z = Z.reshape(xx1.shape)\n",
    "    plt.contourf(xx1, xx2, Z, alpha=0.3, cmap=cmap)\n",
    "    plt.xlim(xx1.min(), xx1.max())\n",
    "    plt.ylim(xx2.min(), xx2.max())\n",
    "    \n",
    "    # plot class samples\n",
    "    for idx, cl in enumerate(np.unique(y)):\n",
    "        label_val = int(cl)\n",
    "        plt.scatter(x=X[y == cl, 0],\n",
    "                    y=X[y == cl, 1],\n",
    "                    alpha=0.8,\n",
    "                    c=colors[idx],\n",
    "                    marker=markers[idx],\n",
    "                    label=label_val,\n",
    "                    edgecolor='black')"
   ]
  }
 ],
 "metadata": {
  "kernelspec": {
   "display_name": "Python 3",
   "language": "python",
   "name": "python3"
  },
  "language_info": {
   "codemirror_mode": {
    "name": "ipython",
    "version": 3
   },
   "file_extension": ".py",
   "mimetype": "text/x-python",
   "name": "python",
   "nbconvert_exporter": "python",
   "pygments_lexer": "ipython3",
   "version": "3.7.3"
  }
 },
 "nbformat": 4,
 "nbformat_minor": 2
}
