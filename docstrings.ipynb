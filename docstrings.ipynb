{
 "cells": [
  {
   "cell_type": "code",
   "execution_count": 8,
   "metadata": {},
   "outputs": [
    {
     "ename": "SyntaxError",
     "evalue": "invalid syntax (<ipython-input-8-ee257fb6d539>, line 32)",
     "output_type": "error",
     "traceback": [
      "\u001b[0;36m  File \u001b[0;32m\"<ipython-input-8-ee257fb6d539>\"\u001b[0;36m, line \u001b[0;32m32\u001b[0m\n\u001b[0;31m    open(file i get the __doc__ string and append it to ret)\u001b[0m\n\u001b[0m              ^\u001b[0m\n\u001b[0;31mSyntaxError\u001b[0m\u001b[0;31m:\u001b[0m invalid syntax\n"
     ]
    }
   ],
   "source": [
    "# WARNING RUNNING THIS FILE WILL OVERIDE EXISTING index.html FILE IN CWD\n",
    "\n",
    "import os\n",
    "\n",
    "class indexer:\n",
    "    path = \"~\"\n",
    "    username = \"\" # !!! github username \n",
    "    site = \"http://\"+\"EmSchoof\"+\".github.io\"\n",
    "    proj = \"MusicBeats\"     # !!! repository name \n",
    "    prod = []\n",
    "    loc=[]\n",
    "\n",
    "    def __init__(self,p):\n",
    "        self.path=p\n",
    "        \n",
    "    def fprep(self,name):\n",
    "        name.replace(\".\",\"\")\n",
    "        name.replace(\"\\\\\",\"/\")\n",
    "        return(name)\n",
    "    \n",
    "    def refPrep(self):\n",
    "        ref = self.site+\"/\"+self.proj\n",
    "        for qw in self.loc:\n",
    "            ref+=\"/\"+qw\n",
    "        return(ref)\n",
    "    \n",
    "    def HtmlFrek(self,adir):\n",
    "        self.loc.append(adir)\n",
    "        os.chdir(adir)\n",
    "        pys = [f for f in os.listdir('.') if os.path.isfile(f) and f.split(\".\")[len(f.split(\".\"))-1]==\"py\"]\n",
    "        for i in pys:\n",
    "            Open the file i get the __doc__ string and append it to ret\n",
    "        for k in folders:\n",
    "            if(k.__contains__(\".\")):\n",
    "                continue\n",
    "            ret+=self.HtmlFrek(k)\n",
    "        os.chdir(\"..\")\n",
    "        del self.loc[len(self.loc)-1]\n",
    "        return(ret)\n",
    "\n",
    "    def HtmlProd(self):\n",
    "        ret = \"\"\n",
    "        pys = [f for f in os.listdir('.') if os.path.isfile(f) and f.split(\".\")[len(f.split(\".\"))-1]==\"py\"]\n",
    "        for i in pys:\n",
    "            Open the file i get the __doc__ string and append it to ret\n",
    "        folders = [f for f in os.listdir(\".\") if not os.path.isfile(f)]\n",
    "        for k in folders:\n",
    "            if(k.__contains__(\".\")):\n",
    "                continue\n",
    "            ret+=self.HtmlFrek(k)\n",
    "        self.prod = ret\n",
    "        return(ret)\n",
    "\n",
    "i = indexer(\".\")\n",
    "q=i.HtmlProd()\n",
    "#print i.prod\n",
    "\n",
    "w = open(\"milestone.md\",\"w\")\n",
    "w.write(q)\n",
    "w.close()"
   ]
  },
  {
   "cell_type": "markdown",
   "metadata": {},
   "source": [
    "Source Code: https://stackoverflow.com/questions/36237477/python-docstrings-to-github-readme-md"
   ]
  }
 ],
 "metadata": {
  "kernelspec": {
   "display_name": "Python 3",
   "language": "python",
   "name": "python3"
  },
  "language_info": {
   "codemirror_mode": {
    "name": "ipython",
    "version": 3
   },
   "file_extension": ".py",
   "mimetype": "text/x-python",
   "name": "python",
   "nbconvert_exporter": "python",
   "pygments_lexer": "ipython3",
   "version": "3.7.2"
  }
 },
 "nbformat": 4,
 "nbformat_minor": 2
}
