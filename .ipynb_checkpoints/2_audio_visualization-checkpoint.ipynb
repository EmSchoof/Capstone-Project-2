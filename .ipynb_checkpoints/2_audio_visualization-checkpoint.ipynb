{
 "cells": [
  {
   "cell_type": "markdown",
   "metadata": {},
   "source": [
    "## Exploratory Data Analysis: Visualize Source Data\n",
    "- Use a Counts plot to visualize number of instances of each genre\n",
    "- Use a Scatterplot Matrix to visualize pair-wise correlations between different features in the dataset in one place"
   ]
  },
  {
   "cell_type": "code",
   "execution_count": 1,
   "metadata": {},
   "outputs": [],
   "source": [
    "# Import data\n",
    "%store -r beats"
   ]
  },
  {
   "cell_type": "markdown",
   "metadata": {},
   "source": [
    "#### Number of each Genre Instances "
   ]
  },
  {
   "cell_type": "code",
   "execution_count": 2,
   "metadata": {},
   "outputs": [],
   "source": [
    "# Import necessary modules\n",
    "import seaborn as sns; sns.set(style=\"darkgrid\")\n",
    "import matplotlib.pyplot as plt\n",
    "import pylab as pl"
   ]
  },
  {
   "cell_type": "code",
   "execution_count": 3,
   "metadata": {},
   "outputs": [
    {
     "data": {
      "image/png": "[encoded data removed]",
      "text/plain": [
       "<Figure size 540x360 with 1 Axes>"
      ]
     },
     "metadata": {
      "needs_background": "light"
     },
     "output_type": "display_data"
    }
   ],
   "source": [
    "# View counts\n",
    "ax = sns.catplot(x=\"Genres\", data=beats, aspect=1.5, kind=\"count\")\n",
    "ax.fig.subplots_adjust(top=0.9)\n",
    "ax.set_xticklabels(rotation=50)\n",
    "ax.fig.suptitle('Number of Instances of Each Genre within Beats', fontsize=16)\n",
    "plt.show()"
   ]
  },
  {
   "cell_type": "markdown",
   "metadata": {},
   "source": [
    "#### Assessing Correlation of Co-Efficients"
   ]
  },
  {
   "cell_type": "code",
   "execution_count": 4,
   "metadata": {},
   "outputs": [
    {
     "data": {
      "text/html": [
       "<div>\n",
       "<style scoped>\n",
       "    .dataframe tbody tr th:only-of-type {\n",
       "        vertical-align: middle;\n",
       "    }\n",
       "\n",
       "    .dataframe tbody tr th {\n",
       "        vertical-align: top;\n",
       "    }\n",
       "\n",
       "    .dataframe thead th {\n",
       "        text-align: right;\n",
       "    }\n",
       "</style>\n",
       "<table border=\"1\" class=\"dataframe\">\n",
       "  <thead>\n",
       "    <tr style=\"text-align: right;\">\n",
       "      <th></th>\n",
       "      <th>Danceability</th>\n",
       "      <th>Energy</th>\n",
       "      <th>Key</th>\n",
       "      <th>Loudness</th>\n",
       "      <th>Mode</th>\n",
       "      <th>Speechness</th>\n",
       "      <th>Acousticness</th>\n",
       "      <th>Instrumentalness</th>\n",
       "      <th>Liveness</th>\n",
       "      <th>Valence</th>\n",
       "      <th>Tempo</th>\n",
       "      <th>Duration_ms</th>\n",
       "      <th>time_signature</th>\n",
       "    </tr>\n",
       "  </thead>\n",
       "  <tbody>\n",
       "    <tr>\n",
       "      <th>Danceability</th>\n",
       "      <td>1.000000</td>\n",
       "      <td>-0.094012</td>\n",
       "      <td>0.025678</td>\n",
       "      <td>-0.005985</td>\n",
       "      <td>-0.073377</td>\n",
       "      <td>0.114531</td>\n",
       "      <td>0.009240</td>\n",
       "      <td>-0.102717</td>\n",
       "      <td>-0.125829</td>\n",
       "      <td>0.397099</td>\n",
       "      <td>-0.163335</td>\n",
       "      <td>-0.071205</td>\n",
       "      <td>0.153577</td>\n",
       "    </tr>\n",
       "    <tr>\n",
       "      <th>Energy</th>\n",
       "      <td>-0.094012</td>\n",
       "      <td>1.000000</td>\n",
       "      <td>0.021710</td>\n",
       "      <td>0.723914</td>\n",
       "      <td>-0.019877</td>\n",
       "      <td>0.080315</td>\n",
       "      <td>-0.662272</td>\n",
       "      <td>-0.030376</td>\n",
       "      <td>0.182491</td>\n",
       "      <td>0.162506</td>\n",
       "      <td>0.198441</td>\n",
       "      <td>-0.008623</td>\n",
       "      <td>0.121090</td>\n",
       "    </tr>\n",
       "    <tr>\n",
       "      <th>Key</th>\n",
       "      <td>0.025678</td>\n",
       "      <td>0.021710</td>\n",
       "      <td>1.000000</td>\n",
       "      <td>0.002342</td>\n",
       "      <td>-0.171450</td>\n",
       "      <td>0.022403</td>\n",
       "      <td>-0.019982</td>\n",
       "      <td>0.017172</td>\n",
       "      <td>-0.004219</td>\n",
       "      <td>0.021710</td>\n",
       "      <td>0.002729</td>\n",
       "      <td>0.014946</td>\n",
       "      <td>0.008667</td>\n",
       "    </tr>\n",
       "    <tr>\n",
       "      <th>Loudness</th>\n",
       "      <td>-0.005985</td>\n",
       "      <td>0.723914</td>\n",
       "      <td>0.002342</td>\n",
       "      <td>1.000000</td>\n",
       "      <td>-0.012213</td>\n",
       "      <td>0.032185</td>\n",
       "      <td>-0.496654</td>\n",
       "      <td>-0.281441</td>\n",
       "      <td>0.098580</td>\n",
       "      <td>0.184586</td>\n",
       "      <td>0.125916</td>\n",
       "      <td>-0.135207</td>\n",
       "      <td>0.107552</td>\n",
       "    </tr>\n",
       "    <tr>\n",
       "      <th>Mode</th>\n",
       "      <td>-0.073377</td>\n",
       "      <td>-0.019877</td>\n",
       "      <td>-0.171450</td>\n",
       "      <td>-0.012213</td>\n",
       "      <td>1.000000</td>\n",
       "      <td>-0.045030</td>\n",
       "      <td>0.024893</td>\n",
       "      <td>-0.047751</td>\n",
       "      <td>0.000900</td>\n",
       "      <td>0.015684</td>\n",
       "      <td>0.020373</td>\n",
       "      <td>-0.049380</td>\n",
       "      <td>-0.010309</td>\n",
       "    </tr>\n",
       "    <tr>\n",
       "      <th>Speechness</th>\n",
       "      <td>0.114531</td>\n",
       "      <td>0.080315</td>\n",
       "      <td>0.022403</td>\n",
       "      <td>0.032185</td>\n",
       "      <td>-0.045030</td>\n",
       "      <td>1.000000</td>\n",
       "      <td>0.037367</td>\n",
       "      <td>-0.111662</td>\n",
       "      <td>0.179166</td>\n",
       "      <td>0.047805</td>\n",
       "      <td>-0.001978</td>\n",
       "      <td>-0.096677</td>\n",
       "      <td>-0.008895</td>\n",
       "    </tr>\n",
       "    <tr>\n",
       "      <th>Acousticness</th>\n",
       "      <td>0.009240</td>\n",
       "      <td>-0.662272</td>\n",
       "      <td>-0.019982</td>\n",
       "      <td>-0.496654</td>\n",
       "      <td>0.024893</td>\n",
       "      <td>0.037367</td>\n",
       "      <td>1.000000</td>\n",
       "      <td>-0.051467</td>\n",
       "      <td>-0.073453</td>\n",
       "      <td>-0.032957</td>\n",
       "      <td>-0.159352</td>\n",
       "      <td>-0.119877</td>\n",
       "      <td>-0.126013</td>\n",
       "    </tr>\n",
       "    <tr>\n",
       "      <th>Instrumentalness</th>\n",
       "      <td>-0.102717</td>\n",
       "      <td>-0.030376</td>\n",
       "      <td>0.017172</td>\n",
       "      <td>-0.281441</td>\n",
       "      <td>-0.047751</td>\n",
       "      <td>-0.111662</td>\n",
       "      <td>-0.051467</td>\n",
       "      <td>1.000000</td>\n",
       "      <td>-0.040610</td>\n",
       "      <td>-0.322891</td>\n",
       "      <td>0.025082</td>\n",
       "      <td>0.380834</td>\n",
       "      <td>-0.037821</td>\n",
       "    </tr>\n",
       "    <tr>\n",
       "      <th>Liveness</th>\n",
       "      <td>-0.125829</td>\n",
       "      <td>0.182491</td>\n",
       "      <td>-0.004219</td>\n",
       "      <td>0.098580</td>\n",
       "      <td>0.000900</td>\n",
       "      <td>0.179166</td>\n",
       "      <td>-0.073453</td>\n",
       "      <td>-0.040610</td>\n",
       "      <td>1.000000</td>\n",
       "      <td>-0.005584</td>\n",
       "      <td>0.023066</td>\n",
       "      <td>-0.033263</td>\n",
       "      <td>-0.016206</td>\n",
       "    </tr>\n",
       "    <tr>\n",
       "      <th>Valence</th>\n",
       "      <td>0.397099</td>\n",
       "      <td>0.162506</td>\n",
       "      <td>0.021710</td>\n",
       "      <td>0.184586</td>\n",
       "      <td>0.015684</td>\n",
       "      <td>0.047805</td>\n",
       "      <td>-0.032957</td>\n",
       "      <td>-0.322891</td>\n",
       "      <td>-0.005584</td>\n",
       "      <td>1.000000</td>\n",
       "      <td>0.021210</td>\n",
       "      <td>-0.282439</td>\n",
       "      <td>0.101092</td>\n",
       "    </tr>\n",
       "    <tr>\n",
       "      <th>Tempo</th>\n",
       "      <td>-0.163335</td>\n",
       "      <td>0.198441</td>\n",
       "      <td>0.002729</td>\n",
       "      <td>0.125916</td>\n",
       "      <td>0.020373</td>\n",
       "      <td>-0.001978</td>\n",
       "      <td>-0.159352</td>\n",
       "      <td>0.025082</td>\n",
       "      <td>0.023066</td>\n",
       "      <td>0.021210</td>\n",
       "      <td>1.000000</td>\n",
       "      <td>0.010728</td>\n",
       "      <td>-0.011407</td>\n",
       "    </tr>\n",
       "    <tr>\n",
       "      <th>Duration_ms</th>\n",
       "      <td>-0.071205</td>\n",
       "      <td>-0.008623</td>\n",
       "      <td>0.014946</td>\n",
       "      <td>-0.135207</td>\n",
       "      <td>-0.049380</td>\n",
       "      <td>-0.096677</td>\n",
       "      <td>-0.119877</td>\n",
       "      <td>0.380834</td>\n",
       "      <td>-0.033263</td>\n",
       "      <td>-0.282439</td>\n",
       "      <td>0.010728</td>\n",
       "      <td>1.000000</td>\n",
       "      <td>-0.019316</td>\n",
       "    </tr>\n",
       "    <tr>\n",
       "      <th>time_signature</th>\n",
       "      <td>0.153577</td>\n",
       "      <td>0.121090</td>\n",
       "      <td>0.008667</td>\n",
       "      <td>0.107552</td>\n",
       "      <td>-0.010309</td>\n",
       "      <td>-0.008895</td>\n",
       "      <td>-0.126013</td>\n",
       "      <td>-0.037821</td>\n",
       "      <td>-0.016206</td>\n",
       "      <td>0.101092</td>\n",
       "      <td>-0.011407</td>\n",
       "      <td>-0.019316</td>\n",
       "      <td>1.000000</td>\n",
       "    </tr>\n",
       "  </tbody>\n",
       "</table>\n",
       "</div>"
      ],
      "text/plain": [
       "                  Danceability    Energy       Key  Loudness      Mode  \\\n",
       "Danceability          1.000000 -0.094012  0.025678 -0.005985 -0.073377   \n",
       "Energy               -0.094012  1.000000  0.021710  0.723914 -0.019877   \n",
       "Key                   0.025678  0.021710  1.000000  0.002342 -0.171450   \n",
       "Loudness             -0.005985  0.723914  0.002342  1.000000 -0.012213   \n",
       "Mode                 -0.073377 -0.019877 -0.171450 -0.012213  1.000000   \n",
       "Speechness            0.114531  0.080315  0.022403  0.032185 -0.045030   \n",
       "Acousticness          0.009240 -0.662272 -0.019982 -0.496654  0.024893   \n",
       "Instrumentalness     -0.102717 -0.030376  0.017172 -0.281441 -0.047751   \n",
       "Liveness             -0.125829  0.182491 -0.004219  0.098580  0.000900   \n",
       "Valence               0.397099  0.162506  0.021710  0.184586  0.015684   \n",
       "Tempo                -0.163335  0.198441  0.002729  0.125916  0.020373   \n",
       "Duration_ms          -0.071205 -0.008623  0.014946 -0.135207 -0.049380   \n",
       "time_signature        0.153577  0.121090  0.008667  0.107552 -0.010309   \n",
       "\n",
       "                  Speechness  Acousticness  Instrumentalness  Liveness  \\\n",
       "Danceability        0.114531      0.009240         -0.102717 -0.125829   \n",
       "Energy              0.080315     -0.662272         -0.030376  0.182491   \n",
       "Key                 0.022403     -0.019982          0.017172 -0.004219   \n",
       "Loudness            0.032185     -0.496654         -0.281441  0.098580   \n",
       "Mode               -0.045030      0.024893         -0.047751  0.000900   \n",
       "Speechness          1.000000      0.037367         -0.111662  0.179166   \n",
       "Acousticness        0.037367      1.000000         -0.051467 -0.073453   \n",
       "Instrumentalness   -0.111662     -0.051467          1.000000 -0.040610   \n",
       "Liveness            0.179166     -0.073453         -0.040610  1.000000   \n",
       "Valence             0.047805     -0.032957         -0.322891 -0.005584   \n",
       "Tempo              -0.001978     -0.159352          0.025082  0.023066   \n",
       "Duration_ms        -0.096677     -0.119877          0.380834 -0.033263   \n",
       "time_signature     -0.008895     -0.126013         -0.037821 -0.016206   \n",
       "\n",
       "                   Valence     Tempo  Duration_ms  time_signature  \n",
       "Danceability      0.397099 -0.163335    -0.071205        0.153577  \n",
       "Energy            0.162506  0.198441    -0.008623        0.121090  \n",
       "Key               0.021710  0.002729     0.014946        0.008667  \n",
       "Loudness          0.184586  0.125916    -0.135207        0.107552  \n",
       "Mode              0.015684  0.020373    -0.049380       -0.010309  \n",
       "Speechness        0.047805 -0.001978    -0.096677       -0.008895  \n",
       "Acousticness     -0.032957 -0.159352    -0.119877       -0.126013  \n",
       "Instrumentalness -0.322891  0.025082     0.380834       -0.037821  \n",
       "Liveness         -0.005584  0.023066    -0.033263       -0.016206  \n",
       "Valence           1.000000  0.021210    -0.282439        0.101092  \n",
       "Tempo             0.021210  1.000000     0.010728       -0.011407  \n",
       "Duration_ms      -0.282439  0.010728     1.000000       -0.019316  \n",
       "time_signature    0.101092 -0.011407    -0.019316        1.000000  "
      ]
     },
     "execution_count": 4,
     "metadata": {},
     "output_type": "execute_result"
    }
   ],
   "source": [
    "# Create a correlation dataframe\n",
    "feature_corr = beats.corr()\n",
    "feature_corr"
   ]
  },
  {
   "cell_type": "code",
   "execution_count": 5,
   "metadata": {},
   "outputs": [
    {
     "data": {
      "text/plain": [
       "<matplotlib.axes._subplots.AxesSubplot at 0x1a243e8898>"
      ]
     },
     "execution_count": 5,
     "metadata": {},
     "output_type": "execute_result"
    },
    {
     "data": {
      "image/png": "[encoded data removed]",
      "text/plain": [
       "<Figure size 432x288 with 2 Axes>"
      ]
     },
     "metadata": {
      "needs_background": "light"
     },
     "output_type": "display_data"
    }
   ],
   "source": [
    "# Plot a correlation heatmap\n",
    "sns.heatmap(feature_corr, square=True, cmap='RdYlGn')"
   ]
  },
  {
   "cell_type": "markdown",
   "metadata": {},
   "source": [
    "*Observations*: It appears that the strongest correlations are between **Energy and Loudness (+0.723914)** followed by **Energy and Acousticness (-0.662272)**, **Loudness and Acousticness (-0.496654)**, and a weaker, but still notable, correlations between **Danceability and Valence (+0.397099)** and **Duration_ms and Instrumentalness (+0.380834)**."
   ]
  },
  {
   "cell_type": "markdown",
   "metadata": {},
   "source": [
    "#### General Genre Clusters Based on Top Features"
   ]
  },
  {
   "cell_type": "code",
   "execution_count": 6,
   "metadata": {},
   "outputs": [],
   "source": [
    "# Import necessary modules\n",
    "import plotly # has packages for large datasets\n",
    "import plotly.plotly as py\n",
    "import plotly.graph_objs as go\n",
    "import matplotlib.cm as cm\n",
    "from IPython.display import IFrame"
   ]
  },
  {
   "cell_type": "markdown",
   "metadata": {},
   "source": [
    "1. Top Feature by Top Feature\n",
    "x = energy_y\n",
    "y = loudness_y"
   ]
  },
  {
   "cell_type": "code",
   "execution_count": 23,
   "metadata": {},
   "outputs": [],
   "source": [
    "# Define x and y variables\n",
    "energy_y = beats['Energy']\n",
    "loudness_y = beats['Loudness']"
   ]
  },
  {
   "cell_type": "code",
   "execution_count": 10,
   "metadata": {},
   "outputs": [
    {
     "data": {
      "text/plain": [
       "'https://plot.ly/~emilyschoof/32'"
      ]
     },
     "execution_count": 10,
     "metadata": {},
     "output_type": "execute_result"
    }
   ],
   "source": [
    "# All graphs were plotted with the corresponding code with variations to X and Y variables\n",
    "trace = go.Scattergl(x = energy_y,\n",
    "                y = loudness_y,\n",
    "                mode = 'markers',\n",
    "                marker = dict(line = dict(width = 1))\n",
    "                            )\n",
    "data = [trace]    \n",
    "layout = dict(showlegend=False)\n",
    "fig=dict(data=data, layout=layout)\n",
    "py.plot(fig)"
   ]
  },
  {
   "cell_type": "code",
   "execution_count": 13,
   "metadata": {},
   "outputs": [
    {
     "data": {
      "text/html": [
       "\n",
       "        <iframe\n",
       "            width=\"600\"\n",
       "            height=\"500\"\n",
       "            src=\"//plot.ly/~emilyschoof/32.embed\"\n",
       "            frameborder=\"0\"\n",
       "            allowfullscreen\n",
       "        ></iframe>\n",
       "        "
      ],
      "text/plain": [
       "<IPython.lib.display.IFrame at 0x1a23b04470>"
      ]
     },
     "execution_count": 13,
     "metadata": {},
     "output_type": "execute_result"
    }
   ],
   "source": [
    "# View graph\n",
    "IFrame(src='//plot.ly/~emilyschoof/32.embed', width=600, height=500)"
   ]
  },
  {
   "cell_type": "markdown",
   "metadata": {},
   "source": [
    "2. Top Feature 1 by Music Genre\n",
    "x = beats['Genres']\n",
    "y = loudness_y"
   ]
  },
  {
   "cell_type": "code",
   "execution_count": 16,
   "metadata": {},
   "outputs": [],
   "source": [
    "# Define x and y variables\n",
    "genres_y = beats['Genres']"
   ]
  },
  {
   "cell_type": "code",
   "execution_count": 18,
   "metadata": {},
   "outputs": [
    {
     "data": {
      "text/plain": [
       "'https://plot.ly/~emilyschoof/36'"
      ]
     },
     "execution_count": 18,
     "metadata": {},
     "output_type": "execute_result"
    }
   ],
   "source": [
    "# All graphs were plotted with the corresponding code with variations to X and Y variables\n",
    "trace = go.Scattergl(x = genres_y,\n",
    "                y = abs(loudness_y),\n",
    "                mode = 'markers',\n",
    "                marker = dict(line = dict(width = 1))\n",
    "                            )\n",
    "data = [trace]    \n",
    "layout = dict(showlegend=False)\n",
    "fig=dict(data=data, layout=layout)\n",
    "py.plot(fig)"
   ]
  },
  {
   "cell_type": "code",
   "execution_count": 20,
   "metadata": {},
   "outputs": [
    {
     "data": {
      "text/html": [
       "\n",
       "        <iframe\n",
       "            width=\"600\"\n",
       "            height=\"500\"\n",
       "            src=\"//plot.ly/~emilyschoof/36.embed\"\n",
       "            frameborder=\"0\"\n",
       "            allowfullscreen\n",
       "        ></iframe>\n",
       "        "
      ],
      "text/plain": [
       "<IPython.lib.display.IFrame at 0x11e11c6a0>"
      ]
     },
     "execution_count": 20,
     "metadata": {},
     "output_type": "execute_result"
    }
   ],
   "source": [
    "# View graph\n",
    "IFrame(src='//plot.ly/~emilyschoof/36.embed', width=600, height=500)"
   ]
  },
  {
   "cell_type": "markdown",
   "metadata": {},
   "source": [
    "3. Top Feature 2 by Music Genre\n",
    "x = beats['Genres']\n",
    "y = energy_y"
   ]
  },
  {
   "cell_type": "code",
   "execution_count": 24,
   "metadata": {},
   "outputs": [
    {
     "data": {
      "text/plain": [
       "'https://plot.ly/~emilyschoof/40'"
      ]
     },
     "execution_count": 24,
     "metadata": {},
     "output_type": "execute_result"
    }
   ],
   "source": [
    "# All graphs were plotted with the corresponding code with variations to X and Y variables\n",
    "trace = go.Scattergl(x = genres_y,\n",
    "                y = abs(energy_y),\n",
    "                mode = 'markers',\n",
    "                marker = dict(line = dict(width = 1))\n",
    "                            )\n",
    "data = [trace]    \n",
    "layout = dict(showlegend=False)\n",
    "fig=dict(data=data, layout=layout)\n",
    "py.plot(fig)"
   ]
  },
  {
   "cell_type": "code",
   "execution_count": 25,
   "metadata": {},
   "outputs": [
    {
     "data": {
      "text/html": [
       "\n",
       "        <iframe\n",
       "            width=\"600\"\n",
       "            height=\"500\"\n",
       "            src=\"//plot.ly/~emilyschoof/40.embed\"\n",
       "            frameborder=\"0\"\n",
       "            allowfullscreen\n",
       "        ></iframe>\n",
       "        "
      ],
      "text/plain": [
       "<IPython.lib.display.IFrame at 0x1a23a3a198>"
      ]
     },
     "execution_count": 25,
     "metadata": {},
     "output_type": "execute_result"
    }
   ],
   "source": [
    "IFrame(src='//plot.ly/~emilyschoof/40.embed', width=600, height=500)"
   ]
  }
 ],
 "metadata": {
  "kernelspec": {
   "display_name": "Python 3",
   "language": "python",
   "name": "python3"
  },
  "language_info": {
   "codemirror_mode": {
    "name": "ipython",
    "version": 3
   },
   "file_extension": ".py",
   "mimetype": "text/x-python",
   "name": "python",
   "nbconvert_exporter": "python",
   "pygments_lexer": "ipython3",
   "version": "3.7.3"
  }
 },
 "nbformat": 4,
 "nbformat_minor": 2
}
